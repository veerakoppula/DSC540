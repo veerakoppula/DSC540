{
 "cells": [
  {
   "cell_type": "markdown",
   "id": "7bccecfb",
   "metadata": {},
   "source": [
    "## Week 9&10 Excercise (Veera Reddy Koppula)"
   ]
  },
  {
   "cell_type": "markdown",
   "id": "d5961f24",
   "metadata": {},
   "source": [
    "**Activity 9: Extracting the Top 100 eBooks from Gutenberg**\n",
    "Project Gutenberg encourages the creation and distribution of eBooks by encouraging volunteer efforts to digitize and archive cultural works. This activity aims to scrape the URL of Project Gutenberg's Top 100 eBooks to identify the eBooks' links. It uses BeautifulSoup4 to pars"
   ]
  },
  {
   "cell_type": "markdown",
   "id": "5a7f61ce",
   "metadata": {},
   "source": [
    "Import the necessary libraries, including regex and beautifulsoup."
   ]
  },
  {
   "cell_type": "code",
   "execution_count": 1,
   "id": "5069dd83",
   "metadata": {},
   "outputs": [],
   "source": [
    "import urllib.request, urllib.parse, urllib.error\n",
    "import requests\n",
    "from bs4 import BeautifulSoup\n",
    "import ssl\n",
    "import re"
   ]
  },
  {
   "cell_type": "markdown",
   "id": "302253df",
   "metadata": {},
   "source": [
    "Check the SSL certificate"
   ]
  },
  {
   "cell_type": "code",
   "execution_count": 2,
   "id": "8d84c296",
   "metadata": {},
   "outputs": [],
   "source": [
    "# Setting SSL Certificate context to not validate the certificate to avoid errors\n",
    "ctx = ssl.create_default_context()\n",
    "ctx.check_hostname = False\n",
    "ctx.verify_mode = ssl.CERT_NONE"
   ]
  },
  {
   "cell_type": "markdown",
   "id": "0284142f",
   "metadata": {},
   "source": [
    "Read the HTML from the URL."
   ]
  },
  {
   "cell_type": "code",
   "execution_count": 3,
   "id": "319003c5",
   "metadata": {},
   "outputs": [],
   "source": [
    "url = 'https://www.gutenberg.org/browse/scores/top'\n",
    "response = requests.get(url)"
   ]
  },
  {
   "cell_type": "markdown",
   "id": "d151bcb0",
   "metadata": {},
   "source": [
    "Write a small function to check the status of the web request."
   ]
  },
  {
   "cell_type": "code",
   "execution_count": 4,
   "id": "df7f1532",
   "metadata": {},
   "outputs": [],
   "source": [
    "def check_status(r):\n",
    "    if r.status_code==200:\n",
    "        print(\"Success!\")\n",
    "    else:\n",
    "        print(\"Failed!\")"
   ]
  },
  {
   "cell_type": "code",
   "execution_count": 5,
   "id": "b95c35ea",
   "metadata": {},
   "outputs": [
    {
     "name": "stdout",
     "output_type": "stream",
     "text": [
      "Success!\n"
     ]
    }
   ],
   "source": [
    "check_status(response)"
   ]
  },
  {
   "cell_type": "markdown",
   "id": "b20f90c6",
   "metadata": {},
   "source": [
    "Decode the response and pass this on to BeautifulSoup for HTML parsing."
   ]
  },
  {
   "cell_type": "code",
   "execution_count": 6,
   "id": "c10c1a08",
   "metadata": {},
   "outputs": [],
   "source": [
    "decode = response.content.decode(response.encoding)"
   ]
  },
  {
   "cell_type": "code",
   "execution_count": 7,
   "id": "27ea6420",
   "metadata": {},
   "outputs": [],
   "source": [
    "bsdecode = BeautifulSoup(decode, 'html.parser')"
   ]
  },
  {
   "cell_type": "markdown",
   "id": "22bb166b",
   "metadata": {},
   "source": [
    "Find all the href tags and store them in the list of links. Check what the list looks like – print the first 30 elements."
   ]
  },
  {
   "cell_type": "code",
   "execution_count": 8,
   "id": "51313ef2",
   "metadata": {},
   "outputs": [
    {
     "data": {
      "text/plain": [
       "['/',\n",
       " '/about/',\n",
       " '/about/',\n",
       " '/policy/collection_development.html',\n",
       " '/about/contact_information.html',\n",
       " '/about/background/',\n",
       " '/policy/permission.html',\n",
       " '/policy/privacy_policy.html',\n",
       " '/policy/terms_of_use.html',\n",
       " '/ebooks/',\n",
       " '/ebooks/',\n",
       " '/ebooks/bookshelf/',\n",
       " '/browse/scores/top',\n",
       " '/ebooks/offline_catalogs.html',\n",
       " '/help/',\n",
       " '/help/',\n",
       " '/help/copyright.html',\n",
       " '/help/errata.html',\n",
       " '/help/file_formats.html',\n",
       " '/help/faq.html',\n",
       " '/policy/',\n",
       " '/help/public_domain_ebook_submission.html',\n",
       " '/help/submitting_your_own_work.html',\n",
       " '/help/mobile.html',\n",
       " '/attic/',\n",
       " '/donate/',\n",
       " '/donate/',\n",
       " '#books-last1',\n",
       " '#authors-last1',\n",
       " '#books-last7']"
      ]
     },
     "execution_count": 8,
     "metadata": {},
     "output_type": "execute_result"
    }
   ],
   "source": [
    "lst_links=[] #Empty List\n",
    "for link in bsdecode.find_all('a'): #functiont to extract and print all tags with href\n",
    "    lst_links.append(link.get('href'))\n",
    "lst_links[0:30]"
   ]
  },
  {
   "cell_type": "markdown",
   "id": "4bdd6e2e",
   "metadata": {},
   "source": [
    "Use a regular expression to find the numeric digits in these links. These are the file numbers for the top 100 eBooks.\n",
    "\n",
    "Initialize the empty list to hold the file numbers over an appropriate range and use regex to find the numeric digits in the link href string. Use the findall method."
   ]
  },
  {
   "cell_type": "code",
   "execution_count": 9,
   "id": "de246891",
   "metadata": {},
   "outputs": [],
   "source": [
    "booknum=[] #Empty list to capture the book Numbers"
   ]
  },
  {
   "cell_type": "markdown",
   "id": "12e0eb34",
   "metadata": {},
   "source": [
    "* Number 33 to 132 in the original list of links have the Top 100 ebooks' number. \n",
    "* Loop over appropriate range and use regex to find the numeric digits in the link (href) string.\n",
    "* Hint: Use `findall()` method"
   ]
  },
  {
   "cell_type": "code",
   "execution_count": 10,
   "id": "66863edd",
   "metadata": {},
   "outputs": [],
   "source": [
    "for i in range(33,133):\n",
    "    link=lst_links[i]\n",
    "    link=link.strip()\n",
    "    # Regular expression to find the numeric digits in the link (href) string\n",
    "    n=re.findall('[0-9]+',link)\n",
    "    if len(n)==1:\n",
    "        # Append the filenumber casted as integer\n",
    "        booknum.append(int(n[0]))"
   ]
  },
  {
   "cell_type": "code",
   "execution_count": 11,
   "id": "1c053966",
   "metadata": {},
   "outputs": [
    {
     "name": "stdout",
     "output_type": "stream",
     "text": [
      "\n",
      "The file numbers for the top 100 ebooks on Gutenberg are shown below\n",
      "----------------------------------------------------------------------\n",
      "[84, 1342, 25344, 11, 46, 345, 2701, 2542, 64317, 1080, 844, 174, 43, 5200, 1952, 219, 1661, 98, 1260, 205, 1232, 41, 1727, 1250, 160, 23, 76, 2591, 7370, 4980, 408, 3207, 6130, 74, 2554, 55, 2852, 1400, 514, 16, 32992, 120, 2814, 4300, 2600, 1184, 16328, 66655, 2148, 45, 203, 34901, 5740, 63256, 215, 996, 3825, 158, 768, 66654, 58585, 35, 902, 1597, 1497, 66658, 36, 66659, 779, 43453, 42884, 829, 2500, 22381, 11030, 244, 2680, 3600, 28054, 66663, 1998, 135, 1001, 3296, 61, 1524, 7142, 521, 209, 10007, 140, 8492, 15399, 30254, 4517, 600, 4363, 730, 23700, 851]\n"
     ]
    }
   ],
   "source": [
    "print (\"\\nThe file numbers for the top 100 ebooks on Gutenberg are shown below\\n\"+\"-\"*70)\n",
    "print(booknum)"
   ]
  },
  {
   "cell_type": "markdown",
   "id": "8ba42a09",
   "metadata": {},
   "source": [
    "What does the soup object's text look like? Use the .text method and print only the\n",
    "first 2,000 characters (do not print the whole thing, as it is too long)."
   ]
  },
  {
   "cell_type": "code",
   "execution_count": 12,
   "id": "8a88be2f",
   "metadata": {},
   "outputs": [
    {
     "name": "stdout",
     "output_type": "stream",
     "text": [
      "\n",
      "\n",
      "\n",
      "\n",
      "Top 100 | Project Gutenberg\n",
      "\n",
      "\n",
      "\n",
      "\n",
      "\n",
      "\n",
      "\n",
      "\n",
      "\n",
      "\n",
      "\n",
      "\n",
      "\n",
      "\n",
      "\n",
      "\n",
      "\n",
      "\n",
      "\n",
      "\n",
      "\n",
      "\n",
      "\n",
      "\n",
      "\n",
      "\n",
      "\n",
      "Menu▾\n",
      "\n",
      "\n",
      "\n",
      "About\n",
      "          ▾\n",
      "\n",
      "▾\n",
      "\n",
      "\n",
      "About Project Gutenberg\n",
      "Collection Development\n",
      "Contact Us\n",
      "History & Philosophy\n",
      "Permissions & License\n",
      "Privacy Policy\n",
      "Terms of Use\n",
      "\n",
      "\n",
      "\n",
      "Search and Browse\n",
      "      \t  ▾\n",
      "\n",
      "▾\n",
      "\n",
      "\n",
      "Book Search\n",
      "Bookshelves\n",
      "Frequently Downloaded\n",
      "Offline Catalogs\n",
      "\n",
      "\n",
      "\n",
      "Help\n",
      "          ▾\n",
      "\n",
      "▾\n",
      "\n",
      "\n",
      "All help topics →\n",
      "Copyright Procedures\n",
      "Errata, Fixes and Bug Reports\n",
      "File Formats\n",
      "Frequently Asked Questions\n",
      "Policies →\n",
      "Public Domain eBook Submission\n",
      "Submitting Your Own Work\n",
      "Tablets, Phones and eReaders\n",
      "The Attic →\n",
      "\n",
      "\n",
      "Donate\n",
      "\n",
      "\n",
      "\n",
      "\n",
      "\n",
      "\n",
      "\n",
      "\n",
      "\n",
      "\n",
      "Donation\n",
      "\n",
      "\n",
      "\n",
      "\n",
      "\n",
      "\n",
      "\n",
      "Frequently Viewed or Downloaded\n",
      "These listings are based on the number of times each eBook gets downloaded.\n",
      "      Multiple downloads from the same Internet address on the same day count as one download, and addresses that download more than 100 eBooks in a day are considered robots and are not counted.\n",
      "\n",
      "Downloaded Books\n",
      "2021-11-04171208\n",
      "last 7 days1179647\n",
      "last 30 days4946139\n",
      "\n",
      "\n",
      "\n",
      "Top 100 EBooks yesterday\n",
      "Top 100 Authors yesterday\n",
      "Top 100 EBooks last 7 days\n",
      "Top 100 Authors last 7 days\n",
      "Top 100 EBooks last 30 days\n",
      "Top 100 Authors last 30 days\n",
      "\n",
      "\n",
      "Top 100 EBooks yesterday\n",
      "\n",
      "Frankenstein; Or, The Modern Prometheus by Mary Wollstonecraft Shelley (3989)\n",
      "Pride and Prejudice by Jane Austen (2071)\n",
      "The Scarlet Letter by Nathaniel Hawthorne (1578)\n",
      "Alice's Adventures in Wonderland by Lewis Carroll (1038)\n",
      "A Christmas Carol in Prose; Being a Ghost Story of Christmas by Charles Dickens (1010)\n",
      "Dracula by Bram Stoker (967)\n",
      "Moby Dick; Or, The Whale by Herman Melville (847)\n",
      "A Doll's House : a play by Henrik Ibsen (837)\n",
      "The Great Gatsby by F. Scott  Fitzgerald (788)\n",
      "A Modest Proposal by Jonathan Swift (788)\n",
      "The Importance of Being Earnest: A Trivial Comedy for Serious People by Oscar Wilde (786)\n",
      "The Picture of Dorian Gray by Oscar Wilde (754)\n",
      "The Strange Case of Dr. Jekyll and Mr. Hyde by Robert Louis Stevenson (717)\n",
      "Metamorphosis by Franz Kafka (703)\n",
      "The Yellow Wallpaper by Charlotte Perkins Gilman (660)\n",
      "\n"
     ]
    }
   ],
   "source": [
    "print(bsdecode.text[:2000])"
   ]
  },
  {
   "cell_type": "markdown",
   "id": "a9526c58",
   "metadata": {},
   "source": [
    "Search in the extracted text (using a regular expression) from the soup object to find the names of the top 100 eBooks (yesterday's ranking)."
   ]
  },
  {
   "cell_type": "code",
   "execution_count": 13,
   "id": "8d8f17d8",
   "metadata": {},
   "outputs": [],
   "source": [
    "lst_titles_temp=[] # Empty list to hold titles"
   ]
  },
  {
   "cell_type": "markdown",
   "id": "934100b2",
   "metadata": {},
   "source": [
    "Create a starting index. It should point at the text Top 100 Ebooks yesterday. Use the splitlines method of soup.text. It splits the lines of text of the soup object."
   ]
  },
  {
   "cell_type": "code",
   "execution_count": 14,
   "id": "44b2eb49",
   "metadata": {},
   "outputs": [],
   "source": [
    "start_idx=bsdecode.text.splitlines().index('Top 100 EBooks yesterday')"
   ]
  },
  {
   "cell_type": "markdown",
   "id": "b19ae948",
   "metadata": {},
   "source": [
    "Loop 1-100 to add the strings of the next 100 lines to this temporary list. Hint: use the splitlines method."
   ]
  },
  {
   "cell_type": "code",
   "execution_count": 15,
   "id": "6fc2e4d4",
   "metadata": {},
   "outputs": [],
   "source": [
    "for i in range(114):\n",
    "    lst_titles_temp.append(bsdecode.text.splitlines()[start_idx+9+i])"
   ]
  },
  {
   "cell_type": "markdown",
   "id": "bca6afb2",
   "metadata": {},
   "source": [
    "Use a regular expression to extract only text from the name strings and append it to an empty list. Use match and span to find the indices and use them."
   ]
  },
  {
   "cell_type": "code",
   "execution_count": 16,
   "id": "f02279eb",
   "metadata": {},
   "outputs": [],
   "source": [
    "lst_titles=[]\n",
    "for i in range(101):\n",
    "    id1,id2=re.match('^[a-zA-Z ]*',lst_titles_temp[i]).span()\n",
    "    lst_titles.append(lst_titles_temp[i][id1:id2])"
   ]
  },
  {
   "cell_type": "code",
   "execution_count": 17,
   "id": "f0144cb0",
   "metadata": {},
   "outputs": [
    {
     "name": "stdout",
     "output_type": "stream",
     "text": [
      "\n",
      "Frankenstein\n",
      "Pride and Prejudice by Jane Austen \n",
      "The Scarlet Letter by Nathaniel Hawthorne \n",
      "Alice\n",
      "A Christmas Carol in Prose\n",
      "Dracula by Bram Stoker \n",
      "Moby Dick\n",
      "A Doll\n",
      "The Great Gatsby by F\n",
      "A Modest Proposal by Jonathan Swift \n",
      "The Importance of Being Earnest\n",
      "The Picture of Dorian Gray by Oscar Wilde \n",
      "The Strange Case of Dr\n",
      "Metamorphosis by Franz Kafka \n",
      "The Yellow Wallpaper by Charlotte Perkins Gilman \n",
      "Heart of Darkness by Joseph Conrad \n",
      "The Adventures of Sherlock Holmes by Arthur Conan Doyle \n",
      "A Tale of Two Cities by Charles Dickens \n",
      "Jane Eyre\n",
      "Walden\n",
      "The Prince by Niccol\n",
      "The Legend of Sleepy Hollow by Washington Irving \n",
      "The Odyssey by Homer \n",
      "Anthem by Ayn Rand \n",
      "The Awakening\n",
      "Narrative of the Life of Frederick Douglass\n",
      "Adventures of Huckleberry Finn by Mark Twain \n",
      "Grimms\n",
      "Second Treatise of Government by John Locke \n",
      "Old Granny Fox by Thornton W\n",
      "The Souls of Black Folk by W\n",
      "Leviathan by Thomas Hobbes \n",
      "The Iliad by Homer \n",
      "The Adventures of Tom Sawyer\n",
      "Crime and Punishment by Fyodor Dostoyevsky \n",
      "The Wonderful Wizard of Oz by L\n",
      "The Hound of the Baskervilles by Arthur Conan Doyle \n",
      "Great Expectations by Charles Dickens \n",
      "Little Women by Louisa May Alcott \n",
      "Peter Pan by J\n",
      "The Youngest Girl in the School by Evelyn Sharp \n",
      "Treasure Island by Robert Louis Stevenson \n",
      "Dubliners by James Joyce \n",
      "Ulysses by James Joyce \n",
      "War and Peace by graf Leo Tolstoy \n",
      "The Count of Monte Cristo\n",
      "Beowulf\n",
      "A New Story Book for Children by Fanny Fern \n",
      "The Works of Edgar Allan Poe \n",
      "Anne of Green Gables by L\n",
      "Uncle Tom\n",
      "On Liberty by John Stuart Mill \n",
      "Tractatus Logico\n",
      "The American Diary of a Japanese Girl by Yon\n",
      "The Call of the Wild by Jack London \n",
      "Don Quixote by Miguel de Cervantes Saavedra \n",
      "Pygmalion by Bernard Shaw \n",
      "Emma by Jane Austen \n",
      "Wuthering Heights by Emily Bront\n",
      "All\n",
      "The Prophet by Kahlil Gibran \n",
      "The Time Machine by H\n",
      "The Happy Prince\n",
      "Andersen\n",
      "The Republic by Plato \n",
      "Australasia Triumphant\n",
      "The War of the Worlds by H\n",
      "Chambers\n",
      "The Tragical History of Doctor Faustus by Christopher Marlowe \n",
      "A Pickle for the Knowing Ones by Timothy Dexter \n",
      "The Philippine Islands\n",
      "Gulliver\n",
      "Siddhartha by Hermann Hesse \n",
      "Myths and Legends of Ancient Greece and Rome by E\n",
      "Incidents in the Life of a Slave Girl\n",
      "A Study in Scarlet by Arthur Conan Doyle \n",
      "Meditations by Emperor of Rome Marcus Aurelius \n",
      "Essays of Michel de Montaigne \n",
      "The Brothers Karamazov by Fyodor Dostoyevsky \n",
      "Ancient history from the monuments\n",
      "Thus Spake Zarathustra\n",
      "Les Mis\n",
      "Divine Comedy\n",
      "The Confessions of St\n",
      "The Communist Manifesto by Friedrich Engels and Karl Marx \n",
      "Hamlet\n",
      "The History of the Peloponnesian War by Thucydides \n",
      "The Life and Adventures of Robinson Crusoe by Daniel Defoe \n",
      "The Turn of the Screw by Henry James \n",
      "Carmilla by Joseph Sheridan Le Fanu \n",
      "The Jungle by Upton Sinclair \n",
      "The King in Yellow by Robert W\n",
      "The Interesting Narrative of the Life of Olaudah Equiano\n",
      "The Romance of Lust\n",
      "Ethan Frome by Edith Wharton \n",
      "Notes from the Underground by Fyodor Dostoyevsky \n",
      "Beyond Good and Evil by Friedrich Wilhelm Nietzsche \n",
      "Oliver Twist by Charles Dickens \n",
      "The Decameron of Giovanni Boccaccio by Giovanni Boccaccio \n",
      "Narrative of the Captivity and Restoration of Mrs\n"
     ]
    }
   ],
   "source": [
    "#Printing list of titles\n",
    "for l in lst_titles:\n",
    "    print(l)"
   ]
  },
  {
   "cell_type": "markdown",
   "id": "f85984fc",
   "metadata": {},
   "source": [
    "\n",
    "**Activity 10: Building Your Own Movie Database by Reading an API**\n",
    "In this activity, you will build a complete movie database by communicating and interfacing with a free API. You will learn about obtaining a unique user key that must be used when your program tries to access the API. This activity will teach you general chapters about working with an API, which are fairly common for other highly popular API services such as Google or Twitter. Therefore, after doing this exercise, you will be confident about writing more complex programs to scrape data from such services."
   ]
  },
  {
   "cell_type": "markdown",
   "id": "70f2c951",
   "metadata": {},
   "source": [
    "Import urllib.request, urllib.parse, urllib.error, and json."
   ]
  },
  {
   "cell_type": "code",
   "execution_count": 18,
   "id": "0b137869",
   "metadata": {},
   "outputs": [],
   "source": [
    "import urllib.request, urllib.parse, urllib.error\n",
    "import json"
   ]
  },
  {
   "cell_type": "markdown",
   "id": "6fafc84c",
   "metadata": {},
   "source": [
    "Load the secret API key (you have to get one from the OMDb website and use that; it has a daily limit of 1,000) from a JSON file stored in the same folder in a variable, by using json.loads.\n",
    "\n",
    "Obtain a key and store it in JSON as APIkeys.json.\n",
    "Open the APIkeys.json file.\n",
    "\n",
    "My Key is saved in APIkey.json file"
   ]
  },
  {
   "cell_type": "code",
   "execution_count": 19,
   "id": "fd185ba4",
   "metadata": {},
   "outputs": [],
   "source": [
    "with open('APIkeys.json') as f:\n",
    "    keys = json.load(f)\n",
    "    omdbapi = keys['OMDBapi']"
   ]
  },
  {
   "cell_type": "markdown",
   "id": "cf0f22c1",
   "metadata": {},
   "source": [
    "Assign the OMDb portal (http://www.omdbapi.com/?) as a string to a variable.\n",
    "Create a variable called apikey with the last portion of the URL (&apikey=secretapikey), where secretapikey is your own API key."
   ]
  },
  {
   "cell_type": "code",
   "execution_count": 20,
   "id": "6c48b21e",
   "metadata": {},
   "outputs": [],
   "source": [
    "keyurl = 'http://www.omdbapi.com/?'\n",
    "apikey = '&apikey='+omdbapi"
   ]
  },
  {
   "cell_type": "markdown",
   "id": "168d5320",
   "metadata": {},
   "source": [
    "Write a utility function called print_json to print the movie data from a JSON file (which we will get from the portal)."
   ]
  },
  {
   "cell_type": "code",
   "execution_count": 21,
   "id": "86a99d68",
   "metadata": {},
   "outputs": [],
   "source": [
    "# function to print movie data with the utility keys\n",
    "def print_json(json_data):\n",
    "    list_keys=['Title', 'Year', 'Rated', 'Released', 'Runtime', 'Genre', 'Director', 'Writer', \n",
    "               'Actors', 'Plot', 'Language', 'Country', 'Awards', 'Ratings', \n",
    "               'Metascore', 'imdbRating', 'imdbVotes', 'imdbID']\n",
    "    print(\"-\"*50)\n",
    "    for k in list_keys:\n",
    "        if k in list(json_data.keys()):\n",
    "            print(f\"{k}: {json_data[k]}\")\n",
    "    print(\"-\"*50)"
   ]
  },
  {
   "cell_type": "markdown",
   "id": "c32d3337",
   "metadata": {},
   "source": [
    "Write a utility function to download a poster of the movie based on the information from the JSON dataset and save it in your local folder. Use the\n",
    "os module. The poster data is stored in the JSON key Poster. Use the Python command to open a file and write the poster data. Close the file after you're done. This function will save the poster data as an image file."
   ]
  },
  {
   "cell_type": "code",
   "execution_count": 22,
   "id": "b3370dcf",
   "metadata": {},
   "outputs": [],
   "source": [
    "def save_poster(json_data):\n",
    "    import os\n",
    "    title = json_data['Title']\n",
    "    poster_url = json_data['Poster']\n",
    "    # Splits the poster url by '.' and picks up the last string as file extension\n",
    "    poster_file_extension=poster_url.split('.')[-1]\n",
    "    # Reads the image file from web\n",
    "    poster_data = urllib.request.urlopen(poster_url).read()\n",
    "        \n",
    "    savelocation=os.getcwd()+'\\\\'+'Posters'+'\\\\'\n",
    "    # Creates new directory if the directory does not exist. Otherwise, just use the existing path.\n",
    "    if not os.path.isdir(savelocation):\n",
    "        os.mkdir(savelocation)\n",
    "    \n",
    "    filename=savelocation+str(title)+'.'+poster_file_extension\n",
    "    f=open(filename,'wb')\n",
    "    f.write(poster_data)\n",
    "    f.close()"
   ]
  },
  {
   "cell_type": "markdown",
   "id": "bbc57d63",
   "metadata": {},
   "source": [
    "Write a utility function called search_movie to search for a movie by its name, print the downloaded JSON data, and save the movie poster in the local folder. Use a try-except loop for this. Use the previously created serviceurl and apikey variables. You have to pass on a dictionary with a key, t, and the movie name as the corresponding value to the urllib.parse.urlencode() function and then add the serviceurl and apikey to the output of the function to construct the full URL. This URL will be used to access the data. The JSON data has a key called Response. If it is True, that means the read was successful. Check this before processing the data. If it's not successful, then print the JSON key Error, which will contain the appropriate error message returned by the movie database."
   ]
  },
  {
   "cell_type": "code",
   "execution_count": 23,
   "id": "9959b46d",
   "metadata": {},
   "outputs": [],
   "source": [
    "def search_movie(title):\n",
    "    try:\n",
    "        url = keyurl + urllib.parse.urlencode({'t': str(title)})+apikey\n",
    "        print(f'Retrieving the data of \"{title}\" now... ')\n",
    "        print(url)\n",
    "        uh = urllib.request.urlopen(url)\n",
    "        data = uh.read()\n",
    "        json_data=json.loads(data)\n",
    "        \n",
    "        if json_data['Response']=='True':\n",
    "            print_json(json_data)\n",
    "            # Asks user whether to download the poster of the movie\n",
    "            if json_data['Poster']!='N/A':\n",
    "                save_poster(json_data)\n",
    "        else:\n",
    "            print(\"Error encountered: \",json_data['Error'])\n",
    "    \n",
    "    except urllib.error.URLError as e:\n",
    "        print(f\"ERROR: {e.reason}\")"
   ]
  },
  {
   "cell_type": "markdown",
   "id": "16e90aad",
   "metadata": {},
   "source": [
    "Test the search_movie function by entering Titanic."
   ]
  },
  {
   "cell_type": "code",
   "execution_count": 24,
   "id": "f908a65d",
   "metadata": {},
   "outputs": [
    {
     "name": "stdout",
     "output_type": "stream",
     "text": [
      "Retrieving the data of \"Titanic\" now... \n",
      "http://www.omdbapi.com/?t=Titanic&apikey=fdd8a0ea\n",
      "--------------------------------------------------\n",
      "Title: Titanic\n",
      "Year: 1997\n",
      "Rated: PG-13\n",
      "Released: 19 Dec 1997\n",
      "Runtime: 194 min\n",
      "Genre: Drama, Romance\n",
      "Director: James Cameron\n",
      "Writer: James Cameron\n",
      "Actors: Leonardo DiCaprio, Kate Winslet, Billy Zane\n",
      "Plot: A seventeen-year-old aristocrat falls in love with a kind but poor artist aboard the luxurious, ill-fated R.M.S. Titanic.\n",
      "Language: English, Swedish, Italian, French\n",
      "Country: United States, Mexico, Australia\n",
      "Awards: Won 11 Oscars. 125 wins & 83 nominations total\n",
      "Ratings: [{'Source': 'Internet Movie Database', 'Value': '7.8/10'}, {'Source': 'Rotten Tomatoes', 'Value': '89%'}, {'Source': 'Metacritic', 'Value': '75/100'}]\n",
      "Metascore: 75\n",
      "imdbRating: 7.8\n",
      "imdbVotes: 1,098,236\n",
      "imdbID: tt0120338\n",
      "--------------------------------------------------\n"
     ]
    }
   ],
   "source": [
    "search_movie(\"Titanic\")"
   ]
  },
  {
   "cell_type": "markdown",
   "id": "c6b3a1dc",
   "metadata": {},
   "source": [
    "Test the search_movie function by entering \"Random_error\" (obviously, this will not be found, and you should be able to check whether your error catching code is working properly)."
   ]
  },
  {
   "cell_type": "code",
   "execution_count": 25,
   "id": "df76cb04",
   "metadata": {},
   "outputs": [
    {
     "name": "stdout",
     "output_type": "stream",
     "text": [
      "Retrieving the data of \"Random_error\" now... \n",
      "http://www.omdbapi.com/?t=Random_error&apikey=fdd8a0ea\n",
      "Error encountered:  Movie not found!\n"
     ]
    }
   ],
   "source": [
    "search_movie(\"Random_error\")"
   ]
  },
  {
   "cell_type": "markdown",
   "id": "a0009ad0",
   "metadata": {},
   "source": [
    "**3. Connect to the Twitter API and do a simple data pull**\n",
    "\n",
    "a. If you don’t have a twitter account – create one at twitter.com/signup (you can delete the account after this assignment)\n",
    "\n",
    "b. Sign in to apps.twitter.com\n",
    "\n",
    "c. Click “Create New App”\n",
    "\n",
    "d. Give your app a name and description\n",
    "\n",
    "e. Agree to the developer agreement – you will want to make sure to indicate this is for a class project, and this step can take several days to get through, so don’t wait until last minute to complete this portion of the assignment\n",
    "\n",
    "f. Create an access token\n",
    "\n",
    "g. You should receive a consumer key and a token\n",
    "\n",
    "h. Using either the instructions from the book on connecting to an API or for help look here – pull back data searching for “Bellevue University” and “Data Science” (or something else you are interested in)\n",
    "\n",
    "i. How to Create a Twitter App and API Interface via Python. (Grogan, 2016)\n",
    "ii. Welcome Python-Twitter’s Documentation!  (The Python-Twitter Developers, 2016)"
   ]
  },
  {
   "cell_type": "code",
   "execution_count": 26,
   "id": "8467acfc",
   "metadata": {},
   "outputs": [],
   "source": [
    "# Importing Twitter and setting up my user keys\n",
    "import twitter\n",
    "api = twitter.Api(consumer_key='YjMSzmbU0mnbsHHFsgZDDGCvf',\n",
    "  consumer_secret='8Q6XE9h589aqTLALdmPi2MH9fE8hD2MNKFtFoWC23m4EGYQ1PD',\n",
    "    access_token_key='264722988-qfl7TYYL8KBazO3PaZ9XaMM6gpNWYoPIq6vLwzKn',\n",
    "    access_token_secret='U31Wy9y8YWzZPyGpB9JxIWV4qFBna4i7NipsbBOFxBZvf')"
   ]
  },
  {
   "cell_type": "code",
   "execution_count": 27,
   "id": "938e42c2",
   "metadata": {},
   "outputs": [
    {
     "name": "stdout",
     "output_type": "stream",
     "text": [
      "{\"created_at\": \"Sat Mar 12 10:38:46 +0000 2011\", \"default_profile\": true, \"default_profile_image\": true, \"favourites_count\": 2, \"followers_count\": 12, \"friends_count\": 40, \"id\": 264722988, \"id_str\": \"264722988\", \"name\": \"Veera R Koppula\", \"profile_background_color\": \"C0DEED\", \"profile_background_image_url\": \"http://abs.twimg.com/images/themes/theme1/bg.png\", \"profile_background_image_url_https\": \"https://abs.twimg.com/images/themes/theme1/bg.png\", \"profile_image_url\": \"http://abs.twimg.com/sticky/default_profile_images/default_profile_normal.png\", \"profile_image_url_https\": \"https://abs.twimg.com/sticky/default_profile_images/default_profile_normal.png\", \"profile_link_color\": \"1DA1F2\", \"profile_sidebar_border_color\": \"C0DEED\", \"profile_sidebar_fill_color\": \"DDEEF6\", \"profile_text_color\": \"333333\", \"profile_use_background_image\": true, \"screen_name\": \"veerakoppula\", \"status\": {\"created_at\": \"Sun Aug 02 10:01:53 +0000 2020\", \"id\": 1289863987832578048, \"id_str\": \"1289863987832578048\", \"lang\": \"en\", \"quoted_status_id\": 1285632917495066624, \"quoted_status_id_str\": \"1285632917495066624\", \"retweet_count\": 100, \"retweeted\": true, \"retweeted_status\": {\"created_at\": \"Sun Jul 26 18:17:19 +0000 2020\", \"favorite_count\": 34, \"id\": 1287451950787813379, \"id_str\": \"1287451950787813379\", \"lang\": \"en\", \"quoted_status_id\": 1285632917495066624, \"quoted_status_id_str\": \"1285632917495066624\", \"retweet_count\": 100, \"retweeted\": true, \"source\": \"<a href=\\\"http://twitter.com/download/android\\\" rel=\\\"nofollow\\\">Twitter for Android</a>\", \"text\": \"Sh. @narendramodi @PMOIndia Sh. @drharshvardhan @DrHVoffice Sh. @TCGEHLOT @TcGehlotOffice we're hoping for an urgen\\u2026 https://t.co/JzPxt2UjDz\", \"truncated\": true}, \"source\": \"<a href=\\\"http://twitter.com/download/iphone\\\" rel=\\\"nofollow\\\">Twitter for iPhone</a>\", \"text\": \"RT @michaelkhanna: Sh. @narendramodi @PMOIndia Sh. @drharshvardhan @DrHVoffice Sh. @TCGEHLOT @TcGehlotOffice we're hoping for an urgent &amp; f\\u2026\"}, \"statuses_count\": 3, \"withheld_in_countries\": []}\n"
     ]
    }
   ],
   "source": [
    "# validating that the credentials are accurate\n",
    "print(api.VerifyCredentials())"
   ]
  },
  {
   "cell_type": "code",
   "execution_count": 28,
   "id": "68ca3b13",
   "metadata": {},
   "outputs": [
    {
     "data": {
      "text/plain": [
       "[Status(ID=1456712167668043776, ScreenName=BillyHeyen, Created=Fri Nov 05 19:56:59 +0000 2021, Text='RT @BillyHeyen: Bellevue’s Kearston Lunsford is heading to Tiffin University as a runner 🏃\\u200d♀️'),\n",
       " Status(ID=1456697889258881027, ScreenName=StatisticsViews, Created=Fri Nov 05 19:00:15 +0000 2021, Text='Adjunct Instructor-Data Science - Bellevue, NE - Bellevue University https://t.co/4KTbysZj9S'),\n",
       " Status(ID=1456667648717172747, ScreenName=BellevueU, Created=Fri Nov 05 17:00:05 +0000 2021, Text='Happy #NationalCareerDevelopmentMonth! Every Bellevue University student is pre-registered on Handshake, an app des… https://t.co/ohNCPTjGmE'),\n",
       " Status(ID=1456648204980736012, ScreenName=MUCoachGilbert, Created=Fri Nov 05 15:42:49 +0000 2021, Text='RT @Midland_WBB: GAMEDAY for everyone!!\\n       • Varsity will play Bellevue University in Bellevue, Nebraska with a tip-off of 3PM!…'),\n",
       " Status(ID=1456643865952219140, ScreenName=CSM_Flames, Created=Fri Nov 05 15:25:35 +0000 2021, Text='On the road: Two CSM teams are on the road today. Basketball plays Dickinson State at 1 p.m. in the Bellevue Univer… https://t.co/UlgjiOXZHu'),\n",
       " Status(ID=1456629805366059021, ScreenName=JonHanc57133297, Created=Fri Nov 05 14:29:43 +0000 2021, Text='RT @Midland_WBB: GAMEDAY for everyone!!\\n       • Varsity will play Bellevue University in Bellevue, Nebraska with a tip-off of 3PM!…'),\n",
       " Status(ID=1456609857566646276, ScreenName=BillyHeyen, Created=Fri Nov 05 13:10:27 +0000 2021, Text='Bellevue’s Kearston Lunsford is heading to Tiffin University as a runner 🏃\\u200d♀️ https://t.co/cTkyy9Ehus'),\n",
       " Status(ID=1456596397910855680, ScreenName=Midland_WBB, Created=Fri Nov 05 12:16:58 +0000 2021, Text='GAMEDAY for everyone!!\\n       • Varsity will play Bellevue University in Bellevue, Nebraska with a tip-off of 3PM!… https://t.co/HqxKfRptFA'),\n",
       " Status(ID=1456538610895708167, ScreenName=SmajioE, Created=Fri Nov 05 08:27:20 +0000 2021, Text='Bellevue University diploma, Order a fake degree and transcript. Buy a best Bellevue University degree.… https://t.co/E6Rers6Hvh'),\n",
       " Status(ID=1456403937725091861, ScreenName=CHSMusings, Created=Thu Nov 04 23:32:12 +0000 2021, Text='Ole @bruceforseattle played football at University of Washington back in late 1970s and Bruce will bring back some… https://t.co/dpWrDN4f2p')]"
      ]
     },
     "execution_count": 28,
     "metadata": {},
     "output_type": "execute_result"
    }
   ],
   "source": [
    "#Searching for last 10 tweets with search term Bellevue University since 01/11/2021\n",
    "api.GetSearch(term='Bellevue University', since=2021-11-1, count=10)"
   ]
  },
  {
   "cell_type": "code",
   "execution_count": 29,
   "id": "56eccb64",
   "metadata": {},
   "outputs": [
    {
     "data": {
      "text/plain": [
       "[Status(ID=1456616700959461376, ScreenName=FaheemYounus, Created=Fri Nov 05 13:37:38 +0000 2021, Text='New anti-COVID pill almost as good as the vaccine! \\n\\nTake at home, cut hospital, death risk by 90%\\n\\nDeveloped in 20… https://t.co/przEH7bGWh'),\n",
       " Status(ID=1456633685873242117, ScreenName=Dereklowe, Created=Fri Nov 05 14:45:08 +0000 2021, Text='Pfizer reports terrific data on a new mechanism to shut down the coronavirus. This has to be combined with molnupir… https://t.co/fS2WAW3mSs'),\n",
       " Status(ID=1456645363243184132, ScreenName=WIONews, Created=Fri Nov 05 15:31:32 +0000 2021, Text='#Gravitas with @palkisu:\\n\\n+ Was @Pfizer\\'s vaccine trial data \"falsified\"? Damaging allegations by whistleblower\\n\\n+… https://t.co/1ExqXpifuK'),\n",
       " Status(ID=1456837512723378176, ScreenName=TheCuriousLuke, Created=Sat Nov 06 04:15:04 +0000 2021, Text='RT @TechTargetNews: As #TC21 nears, @tableau is focused on using #AI and #MachineLearning to enable business users with #DataScience skills…'),\n",
       " Status(ID=1456837509984382976, ScreenName=JamesonHalpern, Created=Sat Nov 06 04:15:03 +0000 2021, Text='RT @JamesonHalpern: @USA_Anne711 @JoshShapiroPA https://t.co/TSAa2rwbcR'),\n",
       " Status(ID=1456837501696581636, ScreenName=eelrekab, Created=Sat Nov 06 04:15:01 +0000 2021, Text=\"RT @eelrekab: If you're just getting started in Data Science and you're looking for a little guidance on how to go about it, we've put toge…\"),\n",
       " Status(ID=1456837496734629888, ScreenName=TechTargetNews, Created=Sat Nov 06 04:15:00 +0000 2021, Text='As #TC21 nears, @tableau is focused on using #AI and #MachineLearning to enable business users with #DataScience sk… https://t.co/iFt3i7U2cz'),\n",
       " Status(ID=1456837409757401092, ScreenName=BrainRoaring, Created=Sat Nov 06 04:14:39 +0000 2021, Text='RT @mvanshika23: Some of the most helpful Machine Learning Resources(A Thread):-\\n1. StatQuest with @joshuastarmer This channel is my absolu…'),\n",
       " Status(ID=1456837370498617345, ScreenName=jwy_lele, Created=Sat Nov 06 04:14:30 +0000 2021, Text='ศึกษาเยอะมาก เป็นปีละ อยากรู้ว่า Health data science จะเข้มข้นเท่า Data science มั้ย ?? เคยหาข้อมูลแล้วเขาบอกถ้าไม่… https://t.co/slHmxOOJEp'),\n",
       " Status(ID=1456837324914966528, ScreenName=hubofml, Created=Sat Nov 06 04:14:19 +0000 2021, Text='RT @NainaChaturved8: 9 Data Science Techniques You Should Know!\\n\\nA Quick thread 🧵👇🏻\\n#Python  #DataScience #TensorFlow #MachineLearning #Dat…')]"
      ]
     },
     "execution_count": 29,
     "metadata": {},
     "output_type": "execute_result"
    }
   ],
   "source": [
    "#Searching for last 10 tweets with data science\n",
    "api.GetSearch(term='Data Science', count=10)"
   ]
  },
  {
   "cell_type": "markdown",
   "id": "4f079d00",
   "metadata": {},
   "source": [
    "**4. Using one of the datasets provided in Weeks 7 & 8, or a dataset of your own, choose 3 of the following visualizations to complete. You must submit via PDF along with your code. You are free to use Matplotlib, Seaborn or another package if you prefer.**\n",
    "\n",
    "a. Line\n",
    "\n",
    "b. Scatter\n",
    "\n",
    "c. Bar\n",
    "\n",
    "d. Histogram\n",
    "\n",
    "e. Density Plot\n",
    "\n",
    "f. Pie Chart"
   ]
  },
  {
   "cell_type": "code",
   "execution_count": 30,
   "id": "620c33ec",
   "metadata": {},
   "outputs": [],
   "source": [
    "import numpy as np\n",
    "import pandas as pd\n",
    "pd.options.mode.chained_assignment = None\n",
    "import matplotlib.pyplot as plt"
   ]
  },
  {
   "cell_type": "code",
   "execution_count": 31,
   "id": "7f8afe40",
   "metadata": {},
   "outputs": [
    {
     "data": {
      "text/html": [
       "<div>\n",
       "<style scoped>\n",
       "    .dataframe tbody tr th:only-of-type {\n",
       "        vertical-align: middle;\n",
       "    }\n",
       "\n",
       "    .dataframe tbody tr th {\n",
       "        vertical-align: top;\n",
       "    }\n",
       "\n",
       "    .dataframe thead th {\n",
       "        text-align: right;\n",
       "    }\n",
       "</style>\n",
       "<table border=\"1\" class=\"dataframe\">\n",
       "  <thead>\n",
       "    <tr style=\"text-align: right;\">\n",
       "      <th></th>\n",
       "      <th>CRIM</th>\n",
       "      <th>ZN</th>\n",
       "      <th>INDUS</th>\n",
       "      <th>CHAS</th>\n",
       "      <th>NOX</th>\n",
       "      <th>RM</th>\n",
       "      <th>AGE</th>\n",
       "      <th>DIS</th>\n",
       "      <th>RAD</th>\n",
       "      <th>TAX</th>\n",
       "      <th>PTRATIO</th>\n",
       "      <th>B</th>\n",
       "      <th>LSTAT</th>\n",
       "      <th>PRICE</th>\n",
       "    </tr>\n",
       "  </thead>\n",
       "  <tbody>\n",
       "    <tr>\n",
       "      <th>0</th>\n",
       "      <td>0.00632</td>\n",
       "      <td>18</td>\n",
       "      <td>2.31</td>\n",
       "      <td>0</td>\n",
       "      <td>0.538</td>\n",
       "      <td>6.575</td>\n",
       "      <td>65.2</td>\n",
       "      <td>4.09</td>\n",
       "      <td>1</td>\n",
       "      <td>296</td>\n",
       "      <td>15.3</td>\n",
       "      <td>396.9</td>\n",
       "      <td>4.98</td>\n",
       "      <td>24</td>\n",
       "    </tr>\n",
       "    <tr>\n",
       "      <th>1</th>\n",
       "      <td>0.02731</td>\n",
       "      <td>0</td>\n",
       "      <td>7.07</td>\n",
       "      <td>0</td>\n",
       "      <td>0.469</td>\n",
       "      <td>6.421</td>\n",
       "      <td>78.9</td>\n",
       "      <td>4.9671</td>\n",
       "      <td>2</td>\n",
       "      <td>242</td>\n",
       "      <td>17.8</td>\n",
       "      <td>396.9</td>\n",
       "      <td>9.14</td>\n",
       "      <td>21.6</td>\n",
       "    </tr>\n",
       "    <tr>\n",
       "      <th>2</th>\n",
       "      <td>0.02729</td>\n",
       "      <td>0</td>\n",
       "      <td>7.07</td>\n",
       "      <td>0</td>\n",
       "      <td>0.469</td>\n",
       "      <td>7.185</td>\n",
       "      <td>61.1</td>\n",
       "      <td>4.9671</td>\n",
       "      <td>2</td>\n",
       "      <td>242</td>\n",
       "      <td>17.8</td>\n",
       "      <td>392.83</td>\n",
       "      <td>4.03</td>\n",
       "      <td>34.7</td>\n",
       "    </tr>\n",
       "    <tr>\n",
       "      <th>3</th>\n",
       "      <td>0.03237</td>\n",
       "      <td>0</td>\n",
       "      <td>2.18</td>\n",
       "      <td>0</td>\n",
       "      <td>0.458</td>\n",
       "      <td>6.998</td>\n",
       "      <td>45.8</td>\n",
       "      <td>6.0622</td>\n",
       "      <td>3</td>\n",
       "      <td>222</td>\n",
       "      <td>18.7</td>\n",
       "      <td>394.63</td>\n",
       "      <td>2.94</td>\n",
       "      <td>33.4</td>\n",
       "    </tr>\n",
       "    <tr>\n",
       "      <th>4</th>\n",
       "      <td>0.06905</td>\n",
       "      <td>0</td>\n",
       "      <td>2.18</td>\n",
       "      <td>0</td>\n",
       "      <td>0.458</td>\n",
       "      <td>7.147</td>\n",
       "      <td>54.2</td>\n",
       "      <td>6.0622</td>\n",
       "      <td>3</td>\n",
       "      <td>222</td>\n",
       "      <td>18.7</td>\n",
       "      <td>396.9</td>\n",
       "      <td>5.33</td>\n",
       "      <td>36.2</td>\n",
       "    </tr>\n",
       "    <tr>\n",
       "      <th>...</th>\n",
       "      <td>...</td>\n",
       "      <td>...</td>\n",
       "      <td>...</td>\n",
       "      <td>...</td>\n",
       "      <td>...</td>\n",
       "      <td>...</td>\n",
       "      <td>...</td>\n",
       "      <td>...</td>\n",
       "      <td>...</td>\n",
       "      <td>...</td>\n",
       "      <td>...</td>\n",
       "      <td>...</td>\n",
       "      <td>...</td>\n",
       "      <td>...</td>\n",
       "    </tr>\n",
       "    <tr>\n",
       "      <th>501</th>\n",
       "      <td>0.06263</td>\n",
       "      <td>0</td>\n",
       "      <td>11.93</td>\n",
       "      <td>0</td>\n",
       "      <td>0.573</td>\n",
       "      <td>6.593</td>\n",
       "      <td>69.1</td>\n",
       "      <td>2.4786</td>\n",
       "      <td>1</td>\n",
       "      <td>273</td>\n",
       "      <td>21</td>\n",
       "      <td>391.99</td>\n",
       "      <td>9.67</td>\n",
       "      <td>22.4</td>\n",
       "    </tr>\n",
       "    <tr>\n",
       "      <th>502</th>\n",
       "      <td>0.04527</td>\n",
       "      <td>0</td>\n",
       "      <td>11.93</td>\n",
       "      <td>0</td>\n",
       "      <td>0.573</td>\n",
       "      <td>6.12</td>\n",
       "      <td>76.7</td>\n",
       "      <td>2.2875</td>\n",
       "      <td>1</td>\n",
       "      <td>273</td>\n",
       "      <td>21</td>\n",
       "      <td>396.9</td>\n",
       "      <td>9.08</td>\n",
       "      <td>20.6</td>\n",
       "    </tr>\n",
       "    <tr>\n",
       "      <th>503</th>\n",
       "      <td>0.06076</td>\n",
       "      <td>0</td>\n",
       "      <td>11.93</td>\n",
       "      <td>0</td>\n",
       "      <td>0.573</td>\n",
       "      <td>6.976</td>\n",
       "      <td>91</td>\n",
       "      <td>2.1675</td>\n",
       "      <td>1</td>\n",
       "      <td>273</td>\n",
       "      <td>21</td>\n",
       "      <td>396.9</td>\n",
       "      <td>5.64</td>\n",
       "      <td>23.9</td>\n",
       "    </tr>\n",
       "    <tr>\n",
       "      <th>504</th>\n",
       "      <td>0.10959</td>\n",
       "      <td>0</td>\n",
       "      <td>11.93</td>\n",
       "      <td>0</td>\n",
       "      <td>0.573</td>\n",
       "      <td>6.794</td>\n",
       "      <td>89.3</td>\n",
       "      <td>2.3889</td>\n",
       "      <td>1</td>\n",
       "      <td>273</td>\n",
       "      <td>21</td>\n",
       "      <td>393.45</td>\n",
       "      <td>6.48</td>\n",
       "      <td>22</td>\n",
       "    </tr>\n",
       "    <tr>\n",
       "      <th>505</th>\n",
       "      <td>0.04741</td>\n",
       "      <td>0</td>\n",
       "      <td>11.93</td>\n",
       "      <td>0</td>\n",
       "      <td>0.573</td>\n",
       "      <td>6.03</td>\n",
       "      <td>80.8</td>\n",
       "      <td>2.505</td>\n",
       "      <td>1</td>\n",
       "      <td>273</td>\n",
       "      <td>21</td>\n",
       "      <td>396.9</td>\n",
       "      <td>7.88</td>\n",
       "      <td>11.9</td>\n",
       "    </tr>\n",
       "  </tbody>\n",
       "</table>\n",
       "<p>506 rows × 14 columns</p>\n",
       "</div>"
      ],
      "text/plain": [
       "        CRIM  ZN  INDUS CHAS    NOX     RM   AGE     DIS RAD  TAX PTRATIO  \\\n",
       "0    0.00632  18   2.31    0  0.538  6.575  65.2    4.09   1  296    15.3   \n",
       "1    0.02731   0   7.07    0  0.469  6.421  78.9  4.9671   2  242    17.8   \n",
       "2    0.02729   0   7.07    0  0.469  7.185  61.1  4.9671   2  242    17.8   \n",
       "3    0.03237   0   2.18    0  0.458  6.998  45.8  6.0622   3  222    18.7   \n",
       "4    0.06905   0   2.18    0  0.458  7.147  54.2  6.0622   3  222    18.7   \n",
       "..       ...  ..    ...  ...    ...    ...   ...     ...  ..  ...     ...   \n",
       "501  0.06263   0  11.93    0  0.573  6.593  69.1  2.4786   1  273      21   \n",
       "502  0.04527   0  11.93    0  0.573   6.12  76.7  2.2875   1  273      21   \n",
       "503  0.06076   0  11.93    0  0.573  6.976    91  2.1675   1  273      21   \n",
       "504  0.10959   0  11.93    0  0.573  6.794  89.3  2.3889   1  273      21   \n",
       "505  0.04741   0  11.93    0  0.573   6.03  80.8   2.505   1  273      21   \n",
       "\n",
       "          B LSTAT PRICE  \n",
       "0     396.9  4.98    24  \n",
       "1     396.9  9.14  21.6  \n",
       "2    392.83  4.03  34.7  \n",
       "3    394.63  2.94  33.4  \n",
       "4     396.9  5.33  36.2  \n",
       "..      ...   ...   ...  \n",
       "501  391.99  9.67  22.4  \n",
       "502   396.9  9.08  20.6  \n",
       "503   396.9  5.64  23.9  \n",
       "504  393.45  6.48    22  \n",
       "505   396.9  7.88  11.9  \n",
       "\n",
       "[506 rows x 14 columns]"
      ]
     },
     "execution_count": 31,
     "metadata": {},
     "output_type": "execute_result"
    }
   ],
   "source": [
    "df=pd.read_csv(\"Boston_housing.csv\",error_bad_lines=False, index_col=False, dtype='unicode')\n",
    "df"
   ]
  },
  {
   "cell_type": "code",
   "execution_count": 32,
   "id": "9fca418f",
   "metadata": {},
   "outputs": [
    {
     "data": {
      "text/plain": [
       "CRIM       object\n",
       "ZN         object\n",
       "INDUS      object\n",
       "CHAS       object\n",
       "NOX        object\n",
       "RM         object\n",
       "AGE        object\n",
       "DIS        object\n",
       "RAD        object\n",
       "TAX        object\n",
       "PTRATIO    object\n",
       "B          object\n",
       "LSTAT      object\n",
       "PRICE      object\n",
       "dtype: object"
      ]
     },
     "execution_count": 32,
     "metadata": {},
     "output_type": "execute_result"
    }
   ],
   "source": [
    "df.dtypes"
   ]
  },
  {
   "cell_type": "code",
   "execution_count": 33,
   "id": "af5791d5",
   "metadata": {},
   "outputs": [],
   "source": [
    "df['CRIM']=df['CRIM'].astype(float,errors='raise')\n",
    "df['INDUS']=df['INDUS'].astype(float,errors='raise')\n",
    "df['NOX']=df['NOX'].astype(float,errors='raise')\n",
    "df['RM']=df['RM'].astype(float,errors='raise')\n",
    "df['AGE']=df['AGE'].astype(float,errors='raise')\n",
    "df['DIS']=df['DIS'].astype(float,errors='raise')\n",
    "df['PTRATIO']=df['PTRATIO'].astype(float,errors='raise')\n",
    "df['B']=df['B'].astype(float,errors='raise')\n",
    "df['LSTAT']=df['LSTAT'].astype(float,errors='raise')\n",
    "df['PRICE']=df['PRICE'].astype(float,errors='raise')\n",
    "df['ZN']=df['ZN'].astype(float,errors='raise')\n",
    "df['CHAS']=df['CHAS'].astype(int,errors='raise')\n",
    "df['RAD']=df['RAD'].astype(int,errors='raise')\n",
    "df['TAX']=df['TAX'].astype(int,errors='raise')"
   ]
  },
  {
   "cell_type": "code",
   "execution_count": 34,
   "id": "f057fbd8",
   "metadata": {},
   "outputs": [
    {
     "data": {
      "text/plain": [
       "CRIM       float64\n",
       "ZN         float64\n",
       "INDUS      float64\n",
       "CHAS         int64\n",
       "NOX        float64\n",
       "RM         float64\n",
       "AGE        float64\n",
       "DIS        float64\n",
       "RAD          int64\n",
       "TAX          int64\n",
       "PTRATIO    float64\n",
       "B          float64\n",
       "LSTAT      float64\n",
       "PRICE      float64\n",
       "dtype: object"
      ]
     },
     "execution_count": 34,
     "metadata": {},
     "output_type": "execute_result"
    }
   ],
   "source": [
    "df.dtypes"
   ]
  },
  {
   "cell_type": "markdown",
   "id": "7a31bbe0",
   "metadata": {},
   "source": [
    "Line Graph for all columns"
   ]
  },
  {
   "cell_type": "code",
   "execution_count": 35,
   "id": "714fa2eb",
   "metadata": {},
   "outputs": [
    {
     "data": {
      "text/plain": [
       "<AxesSubplot:>"
      ]
     },
     "execution_count": 35,
     "metadata": {},
     "output_type": "execute_result"
    },
    {
     "data": {
      "image/png": "[encoded data removed]",
      "text/plain": [
       "<Figure size 432x288 with 1 Axes>"
      ]
     },
     "metadata": {
      "needs_background": "light"
     },
     "output_type": "display_data"
    }
   ],
   "source": [
    "df.plot.line()"
   ]
  },
  {
   "cell_type": "markdown",
   "id": "f8b67a80",
   "metadata": {},
   "source": [
    "Scatter Plot againsr CRIM and PRICE of the area"
   ]
  },
  {
   "cell_type": "code",
   "execution_count": 36,
   "id": "d64e5398",
   "metadata": {},
   "outputs": [
    {
     "data": {
      "text/plain": [
       "<AxesSubplot:xlabel='CRIM', ylabel='PRICE'>"
      ]
     },
     "execution_count": 36,
     "metadata": {},
     "output_type": "execute_result"
    },
    {
     "data": {
      "image/png": "[encoded data removed]",
      "text/plain": [
       "<Figure size 432x288 with 1 Axes>"
      ]
     },
     "metadata": {
      "needs_background": "light"
     },
     "output_type": "display_data"
    }
   ],
   "source": [
    "df.plot.scatter(x='CRIM',y='PRICE')"
   ]
  },
  {
   "cell_type": "markdown",
   "id": "922b2e51",
   "metadata": {},
   "source": [
    "Histogram of PRICE column"
   ]
  },
  {
   "cell_type": "code",
   "execution_count": 37,
   "id": "c5e38231",
   "metadata": {},
   "outputs": [
    {
     "data": {
      "text/plain": [
       "array([[<AxesSubplot:title={'center':'AGE'}>]], dtype=object)"
      ]
     },
     "execution_count": 37,
     "metadata": {},
     "output_type": "execute_result"
    },
    {
     "data": {
      "image/png": "[encoded data removed]",
      "text/plain": [
       "<Figure size 432x288 with 1 Axes>"
      ]
     },
     "metadata": {
      "needs_background": "light"
     },
     "output_type": "display_data"
    }
   ],
   "source": [
    "df.hist(column='AGE',bins=10)"
   ]
  },
  {
   "cell_type": "code",
   "execution_count": null,
   "id": "675c4f2b",
   "metadata": {},
   "outputs": [],
   "source": []
  }
 ],
 "metadata": {
  "kernelspec": {
   "display_name": "Python 3",
   "language": "python",
   "name": "python3"
  },
  "language_info": {
   "codemirror_mode": {
    "name": "ipython",
    "version": 3
   },
   "file_extension": ".py",
   "mimetype": "text/x-python",
   "name": "python",
   "nbconvert_exporter": "python",
   "pygments_lexer": "ipython3",
   "version": "3.8.8"
  }
 },
 "nbformat": 4,
 "nbformat_minor": 5
}
