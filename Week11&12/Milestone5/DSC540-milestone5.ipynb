{
 "cells": [
  {
   "cell_type": "markdown",
   "id": "82e79fcf",
   "metadata": {},
   "source": [
    "# Week 11&12 - Project Milestone5 (Koppula Veera Reddy)"
   ]
  },
  {
   "cell_type": "markdown",
   "id": "20dffe48",
   "metadata": {},
   "source": [
    "# loading Milestone2 CSV data"
   ]
  },
  {
   "cell_type": "code",
   "execution_count": 1,
   "id": "ae742812",
   "metadata": {},
   "outputs": [],
   "source": [
    "#Load the necessary libraries\n",
    "import numpy as np\n",
    "import pandas as pd\n",
    "pd.options.mode.chained_assignment = None\n",
    "import matplotlib.pyplot as plt"
   ]
  },
  {
   "cell_type": "code",
   "execution_count": 2,
   "id": "01c62ef6",
   "metadata": {},
   "outputs": [],
   "source": [
    "#Create a script that will read dictionary file line by line to create header list.\n",
    "text_file = []\n",
    "with open('Covid_CDC_Headers.txt','r') as f:\n",
    "    for line in f:\n",
    "        f.readline()\n",
    "        var=line.split(\":\")[0]\n",
    "        text_file.append(var)"
   ]
  },
  {
   "cell_type": "markdown",
   "id": "dcc6d6ff",
   "metadata": {},
   "source": [
    "Replace Header & Format data into a more readable format, with fixing errors"
   ]
  },
  {
   "cell_type": "code",
   "execution_count": 3,
   "id": "248c8282",
   "metadata": {
    "scrolled": true
   },
   "outputs": [
    {
     "data": {
      "text/html": [
       "<div>\n",
       "<style scoped>\n",
       "    .dataframe tbody tr th:only-of-type {\n",
       "        vertical-align: middle;\n",
       "    }\n",
       "\n",
       "    .dataframe tbody tr th {\n",
       "        vertical-align: top;\n",
       "    }\n",
       "\n",
       "    .dataframe thead th {\n",
       "        text-align: right;\n",
       "    }\n",
       "</style>\n",
       "<table border=\"1\" class=\"dataframe\">\n",
       "  <thead>\n",
       "    <tr style=\"text-align: right;\">\n",
       "      <th></th>\n",
       "      <th>CaseMonth</th>\n",
       "      <th>State</th>\n",
       "      <th>StateCode</th>\n",
       "      <th>County</th>\n",
       "      <th>CountyCode</th>\n",
       "      <th>AgeGroup</th>\n",
       "      <th>Sex</th>\n",
       "      <th>Race</th>\n",
       "      <th>Ethinicity</th>\n",
       "      <th>CasePositiveInterval</th>\n",
       "      <th>CaseOnsetInterval</th>\n",
       "      <th>IdentificationProcess</th>\n",
       "      <th>Exposure</th>\n",
       "      <th>CurrentStatus</th>\n",
       "      <th>SymptomsShown</th>\n",
       "      <th>Hospitalized</th>\n",
       "      <th>ICUAdmittance</th>\n",
       "      <th>Death</th>\n",
       "      <th>UnderlyingConditions</th>\n",
       "    </tr>\n",
       "  </thead>\n",
       "  <tbody>\n",
       "    <tr>\n",
       "      <th>1</th>\n",
       "      <td>2020-11</td>\n",
       "      <td>IN</td>\n",
       "      <td>18</td>\n",
       "      <td>POSEY</td>\n",
       "      <td>18129</td>\n",
       "      <td>0 - 17 years</td>\n",
       "      <td>NaN</td>\n",
       "      <td>NaN</td>\n",
       "      <td>NaN</td>\n",
       "      <td>0</td>\n",
       "      <td>NaN</td>\n",
       "      <td>Missing</td>\n",
       "      <td>Missing</td>\n",
       "      <td>Laboratory-confirmed case</td>\n",
       "      <td>Missing</td>\n",
       "      <td>Missing</td>\n",
       "      <td>Missing</td>\n",
       "      <td>No</td>\n",
       "      <td>NaN</td>\n",
       "    </tr>\n",
       "    <tr>\n",
       "      <th>2</th>\n",
       "      <td>2021-03</td>\n",
       "      <td>KY</td>\n",
       "      <td>21</td>\n",
       "      <td>WOODFORD</td>\n",
       "      <td>21239</td>\n",
       "      <td>0 - 17 years</td>\n",
       "      <td>NaN</td>\n",
       "      <td>NaN</td>\n",
       "      <td>NaN</td>\n",
       "      <td>NaN</td>\n",
       "      <td>0</td>\n",
       "      <td>Missing</td>\n",
       "      <td>Missing</td>\n",
       "      <td>Laboratory-confirmed case</td>\n",
       "      <td>Symptomatic</td>\n",
       "      <td>No</td>\n",
       "      <td>Missing</td>\n",
       "      <td>No</td>\n",
       "      <td>NaN</td>\n",
       "    </tr>\n",
       "    <tr>\n",
       "      <th>3</th>\n",
       "      <td>2020-08</td>\n",
       "      <td>MI</td>\n",
       "      <td>26</td>\n",
       "      <td>ANTRIM</td>\n",
       "      <td>26009</td>\n",
       "      <td>18 to 49 years</td>\n",
       "      <td>NaN</td>\n",
       "      <td>NaN</td>\n",
       "      <td>NaN</td>\n",
       "      <td>NaN</td>\n",
       "      <td>0</td>\n",
       "      <td>Missing</td>\n",
       "      <td>Yes</td>\n",
       "      <td>Laboratory-confirmed case</td>\n",
       "      <td>Symptomatic</td>\n",
       "      <td>No</td>\n",
       "      <td>Missing</td>\n",
       "      <td>No</td>\n",
       "      <td>NaN</td>\n",
       "    </tr>\n",
       "    <tr>\n",
       "      <th>4</th>\n",
       "      <td>2021-07</td>\n",
       "      <td>WA</td>\n",
       "      <td>53</td>\n",
       "      <td>ASOTIN</td>\n",
       "      <td>53003</td>\n",
       "      <td>18 to 49 years</td>\n",
       "      <td>NaN</td>\n",
       "      <td>NaN</td>\n",
       "      <td>NaN</td>\n",
       "      <td>0</td>\n",
       "      <td>0</td>\n",
       "      <td>Missing</td>\n",
       "      <td>Missing</td>\n",
       "      <td>Laboratory-confirmed case</td>\n",
       "      <td>Symptomatic</td>\n",
       "      <td>Yes</td>\n",
       "      <td>Missing</td>\n",
       "      <td>Missing</td>\n",
       "      <td>Yes</td>\n",
       "    </tr>\n",
       "    <tr>\n",
       "      <th>5</th>\n",
       "      <td>2020-07</td>\n",
       "      <td>WI</td>\n",
       "      <td>55</td>\n",
       "      <td>IOWA</td>\n",
       "      <td>55049</td>\n",
       "      <td>18 to 49 years</td>\n",
       "      <td>NaN</td>\n",
       "      <td>NaN</td>\n",
       "      <td>NaN</td>\n",
       "      <td>NaN</td>\n",
       "      <td>NaN</td>\n",
       "      <td>Missing</td>\n",
       "      <td>Missing</td>\n",
       "      <td>Laboratory-confirmed case</td>\n",
       "      <td>Missing</td>\n",
       "      <td>Unknown</td>\n",
       "      <td>Missing</td>\n",
       "      <td>Unknown</td>\n",
       "      <td>NaN</td>\n",
       "    </tr>\n",
       "  </tbody>\n",
       "</table>\n",
       "</div>"
      ],
      "text/plain": [
       "  CaseMonth State StateCode    County CountyCode        AgeGroup  Sex Race  \\\n",
       "1   2020-11    IN        18     POSEY      18129    0 - 17 years  NaN  NaN   \n",
       "2   2021-03    KY        21  WOODFORD      21239    0 - 17 years  NaN  NaN   \n",
       "3   2020-08    MI        26    ANTRIM      26009  18 to 49 years  NaN  NaN   \n",
       "4   2021-07    WA        53    ASOTIN      53003  18 to 49 years  NaN  NaN   \n",
       "5   2020-07    WI        55      IOWA      55049  18 to 49 years  NaN  NaN   \n",
       "\n",
       "  Ethinicity CasePositiveInterval CaseOnsetInterval IdentificationProcess  \\\n",
       "1        NaN                    0               NaN               Missing   \n",
       "2        NaN                  NaN                 0               Missing   \n",
       "3        NaN                  NaN                 0               Missing   \n",
       "4        NaN                    0                 0               Missing   \n",
       "5        NaN                  NaN               NaN               Missing   \n",
       "\n",
       "  Exposure              CurrentStatus SymptomsShown Hospitalized  \\\n",
       "1  Missing  Laboratory-confirmed case       Missing      Missing   \n",
       "2  Missing  Laboratory-confirmed case   Symptomatic           No   \n",
       "3      Yes  Laboratory-confirmed case   Symptomatic           No   \n",
       "4  Missing  Laboratory-confirmed case   Symptomatic          Yes   \n",
       "5  Missing  Laboratory-confirmed case       Missing      Unknown   \n",
       "\n",
       "  ICUAdmittance    Death UnderlyingConditions  \n",
       "1       Missing       No                  NaN  \n",
       "2       Missing       No                  NaN  \n",
       "3       Missing       No                  NaN  \n",
       "4       Missing  Missing                  Yes  \n",
       "5       Missing  Unknown                  NaN  "
      ]
     },
     "execution_count": 3,
     "metadata": {},
     "output_type": "execute_result"
    }
   ],
   "source": [
    "#Header Replace with row0 dropped & previous errors in load are cleaned\n",
    "df = pd.read_csv(\"COVID-19_CDC_data.csv\",names=text_file, error_bad_lines=False, index_col=False, dtype='unicode')\n",
    "df.drop(0, inplace=True)\n",
    "df.head()"
   ]
  },
  {
   "cell_type": "markdown",
   "id": "c9adc6ea",
   "metadata": {},
   "source": [
    "Identify outliers and bad data On additional Columns"
   ]
  },
  {
   "cell_type": "code",
   "execution_count": 4,
   "id": "c384d874",
   "metadata": {},
   "outputs": [
    {
     "data": {
      "text/plain": [
       "CaseMonth                       4\n",
       "State                         678\n",
       "StateCode                     678\n",
       "County                    1875515\n",
       "CountyCode                1875515\n",
       "AgeGroup                   377973\n",
       "Sex                       1020368\n",
       "Race                      5846875\n",
       "Ethinicity                6806875\n",
       "CasePositiveInterval     23006281\n",
       "CaseOnsetInterval        17671972\n",
       "IdentificationProcess           0\n",
       "Exposure                        0\n",
       "CurrentStatus                   0\n",
       "SymptomsShown                   0\n",
       "Hospitalized                    0\n",
       "ICUAdmittance                   0\n",
       "Death                     1595858\n",
       "UnderlyingConditions     30795980\n",
       "dtype: int64"
      ]
     },
     "execution_count": 4,
     "metadata": {},
     "output_type": "execute_result"
    }
   ],
   "source": [
    "#Summary of the data with null values in each column\n",
    "df.isnull().sum()"
   ]
  },
  {
   "cell_type": "code",
   "execution_count": 5,
   "id": "a6f84859",
   "metadata": {},
   "outputs": [],
   "source": [
    "size_orig = df.shape"
   ]
  },
  {
   "cell_type": "code",
   "execution_count": 6,
   "id": "e8ddb7cd",
   "metadata": {},
   "outputs": [],
   "source": [
    "df_orig = df\n",
    "#Stripping none values in visit column and saving back to current data set\n",
    "df.dropna(inplace=True)\n",
    "#calculating size of the data after clean-up\n",
    "size_cleaned = df.shape"
   ]
  },
  {
   "cell_type": "code",
   "execution_count": 7,
   "id": "955c6f0f",
   "metadata": {},
   "outputs": [
    {
     "name": "stdout",
     "output_type": "stream",
     "text": [
      "The size of previous data was - 32806678 rows and the size of the new one is - 789393 rows\n"
     ]
    }
   ],
   "source": [
    "print(\"The size of previous data was - {prev[0]} rows and the size of the new one is - {after[0]} rows\".\n",
    "      format(prev=size_orig, after=size_cleaned))"
   ]
  },
  {
   "cell_type": "code",
   "execution_count": 8,
   "id": "f4e7dddc",
   "metadata": {},
   "outputs": [
    {
     "data": {
      "text/html": [
       "<div>\n",
       "<style scoped>\n",
       "    .dataframe tbody tr th:only-of-type {\n",
       "        vertical-align: middle;\n",
       "    }\n",
       "\n",
       "    .dataframe tbody tr th {\n",
       "        vertical-align: top;\n",
       "    }\n",
       "\n",
       "    .dataframe thead th {\n",
       "        text-align: right;\n",
       "    }\n",
       "</style>\n",
       "<table border=\"1\" class=\"dataframe\">\n",
       "  <thead>\n",
       "    <tr style=\"text-align: right;\">\n",
       "      <th></th>\n",
       "      <th>CaseMonth</th>\n",
       "      <th>State</th>\n",
       "      <th>StateCode</th>\n",
       "      <th>County</th>\n",
       "      <th>CountyCode</th>\n",
       "      <th>AgeGroup</th>\n",
       "      <th>Sex</th>\n",
       "      <th>Race</th>\n",
       "      <th>Ethinicity</th>\n",
       "      <th>CasePositiveInterval</th>\n",
       "      <th>CaseOnsetInterval</th>\n",
       "      <th>IdentificationProcess</th>\n",
       "      <th>Exposure</th>\n",
       "      <th>CurrentStatus</th>\n",
       "      <th>SymptomsShown</th>\n",
       "      <th>Hospitalized</th>\n",
       "      <th>ICUAdmittance</th>\n",
       "      <th>Death</th>\n",
       "      <th>UnderlyingConditions</th>\n",
       "    </tr>\n",
       "  </thead>\n",
       "  <tbody>\n",
       "    <tr>\n",
       "      <th>45</th>\n",
       "      <td>2021-01</td>\n",
       "      <td>WA</td>\n",
       "      <td>53</td>\n",
       "      <td>BENTON</td>\n",
       "      <td>53005</td>\n",
       "      <td>0 - 17 years</td>\n",
       "      <td>Female</td>\n",
       "      <td>Missing</td>\n",
       "      <td>Hispanic/Latino</td>\n",
       "      <td>0</td>\n",
       "      <td>0</td>\n",
       "      <td>Missing</td>\n",
       "      <td>Missing</td>\n",
       "      <td>Laboratory-confirmed case</td>\n",
       "      <td>Symptomatic</td>\n",
       "      <td>Yes</td>\n",
       "      <td>No</td>\n",
       "      <td>Missing</td>\n",
       "      <td>Yes</td>\n",
       "    </tr>\n",
       "    <tr>\n",
       "      <th>54</th>\n",
       "      <td>2020-04</td>\n",
       "      <td>KS</td>\n",
       "      <td>20</td>\n",
       "      <td>FORD</td>\n",
       "      <td>20057</td>\n",
       "      <td>18 to 49 years</td>\n",
       "      <td>Male</td>\n",
       "      <td>Unknown</td>\n",
       "      <td>Hispanic/Latino</td>\n",
       "      <td>1</td>\n",
       "      <td>0</td>\n",
       "      <td>Clinical evaluation</td>\n",
       "      <td>Yes</td>\n",
       "      <td>Laboratory-confirmed case</td>\n",
       "      <td>Symptomatic</td>\n",
       "      <td>No</td>\n",
       "      <td>No</td>\n",
       "      <td>No</td>\n",
       "      <td>Yes</td>\n",
       "    </tr>\n",
       "    <tr>\n",
       "      <th>147</th>\n",
       "      <td>2021-01</td>\n",
       "      <td>NC</td>\n",
       "      <td>37</td>\n",
       "      <td>MONTGOMERY</td>\n",
       "      <td>37123</td>\n",
       "      <td>18 to 49 years</td>\n",
       "      <td>Male</td>\n",
       "      <td>White</td>\n",
       "      <td>Hispanic/Latino</td>\n",
       "      <td>0</td>\n",
       "      <td>0</td>\n",
       "      <td>Missing</td>\n",
       "      <td>Unknown</td>\n",
       "      <td>Laboratory-confirmed case</td>\n",
       "      <td>Symptomatic</td>\n",
       "      <td>No</td>\n",
       "      <td>Unknown</td>\n",
       "      <td>No</td>\n",
       "      <td>Yes</td>\n",
       "    </tr>\n",
       "    <tr>\n",
       "      <th>201</th>\n",
       "      <td>2020-05</td>\n",
       "      <td>NC</td>\n",
       "      <td>37</td>\n",
       "      <td>SAMPSON</td>\n",
       "      <td>37163</td>\n",
       "      <td>0 - 17 years</td>\n",
       "      <td>Female</td>\n",
       "      <td>White</td>\n",
       "      <td>Hispanic/Latino</td>\n",
       "      <td>1</td>\n",
       "      <td>0</td>\n",
       "      <td>Missing</td>\n",
       "      <td>Unknown</td>\n",
       "      <td>Laboratory-confirmed case</td>\n",
       "      <td>Symptomatic</td>\n",
       "      <td>No</td>\n",
       "      <td>Unknown</td>\n",
       "      <td>No</td>\n",
       "      <td>Yes</td>\n",
       "    </tr>\n",
       "    <tr>\n",
       "      <th>251</th>\n",
       "      <td>2020-11</td>\n",
       "      <td>WA</td>\n",
       "      <td>53</td>\n",
       "      <td>SPOKANE</td>\n",
       "      <td>53063</td>\n",
       "      <td>0 - 17 years</td>\n",
       "      <td>Female</td>\n",
       "      <td>Missing</td>\n",
       "      <td>Hispanic/Latino</td>\n",
       "      <td>0</td>\n",
       "      <td>0</td>\n",
       "      <td>Missing</td>\n",
       "      <td>Missing</td>\n",
       "      <td>Laboratory-confirmed case</td>\n",
       "      <td>Symptomatic</td>\n",
       "      <td>No</td>\n",
       "      <td>Missing</td>\n",
       "      <td>Missing</td>\n",
       "      <td>Yes</td>\n",
       "    </tr>\n",
       "  </tbody>\n",
       "</table>\n",
       "</div>"
      ],
      "text/plain": [
       "    CaseMonth State StateCode      County CountyCode        AgeGroup     Sex  \\\n",
       "45    2021-01    WA        53      BENTON      53005    0 - 17 years  Female   \n",
       "54    2020-04    KS        20        FORD      20057  18 to 49 years    Male   \n",
       "147   2021-01    NC        37  MONTGOMERY      37123  18 to 49 years    Male   \n",
       "201   2020-05    NC        37     SAMPSON      37163    0 - 17 years  Female   \n",
       "251   2020-11    WA        53     SPOKANE      53063    0 - 17 years  Female   \n",
       "\n",
       "        Race       Ethinicity CasePositiveInterval CaseOnsetInterval  \\\n",
       "45   Missing  Hispanic/Latino                    0                 0   \n",
       "54   Unknown  Hispanic/Latino                    1                 0   \n",
       "147    White  Hispanic/Latino                    0                 0   \n",
       "201    White  Hispanic/Latino                    1                 0   \n",
       "251  Missing  Hispanic/Latino                    0                 0   \n",
       "\n",
       "    IdentificationProcess Exposure              CurrentStatus SymptomsShown  \\\n",
       "45                Missing  Missing  Laboratory-confirmed case   Symptomatic   \n",
       "54    Clinical evaluation      Yes  Laboratory-confirmed case   Symptomatic   \n",
       "147               Missing  Unknown  Laboratory-confirmed case   Symptomatic   \n",
       "201               Missing  Unknown  Laboratory-confirmed case   Symptomatic   \n",
       "251               Missing  Missing  Laboratory-confirmed case   Symptomatic   \n",
       "\n",
       "    Hospitalized ICUAdmittance    Death UnderlyingConditions  \n",
       "45           Yes            No  Missing                  Yes  \n",
       "54            No            No       No                  Yes  \n",
       "147           No       Unknown       No                  Yes  \n",
       "201           No       Unknown       No                  Yes  \n",
       "251           No       Missing  Missing                  Yes  "
      ]
     },
     "execution_count": 8,
     "metadata": {},
     "output_type": "execute_result"
    }
   ],
   "source": [
    "df.head()"
   ]
  },
  {
   "cell_type": "markdown",
   "id": "2cffc9a8",
   "metadata": {},
   "source": [
    "Fix casing or inconsistent values"
   ]
  },
  {
   "cell_type": "code",
   "execution_count": 9,
   "id": "4af609e1",
   "metadata": {},
   "outputs": [
    {
     "data": {
      "text/plain": [
       "CaseMonth                0\n",
       "State                    0\n",
       "StateCode                0\n",
       "County                   0\n",
       "CountyCode               0\n",
       "AgeGroup                 0\n",
       "Sex                      0\n",
       "Race                     0\n",
       "Ethinicity               0\n",
       "CasePositiveInterval     0\n",
       "CaseOnsetInterval        0\n",
       "IdentificationProcess    0\n",
       "Exposure                 0\n",
       "CurrentStatus            0\n",
       "SymptomsShown            0\n",
       "Hospitalized             0\n",
       "ICUAdmittance            0\n",
       "Death                    0\n",
       "UnderlyingConditions     0\n",
       "dtype: int64"
      ]
     },
     "execution_count": 9,
     "metadata": {},
     "output_type": "execute_result"
    }
   ],
   "source": [
    "df = df[(df.Race != 'Unknown') & (df.Race != 'Missing')]\n",
    "df.isnull().sum()"
   ]
  },
  {
   "cell_type": "code",
   "execution_count": 10,
   "id": "f5f8d1ba",
   "metadata": {},
   "outputs": [
    {
     "name": "stdout",
     "output_type": "stream",
     "text": [
      "The size of previous data was - 32806678 rows and the size of the new one is - 731068 rows\n"
     ]
    }
   ],
   "source": [
    "size_cleaned = df.shape\n",
    "print(\"The size of previous data was - {prev[0]} rows and the size of the new one is - {after[0]} rows\".\n",
    "      format(prev=size_orig, after=size_cleaned))"
   ]
  },
  {
   "cell_type": "markdown",
   "id": "711d404b",
   "metadata": {},
   "source": [
    "cleaning Missing and Unknown values in Sex, Ethinicity"
   ]
  },
  {
   "cell_type": "markdown",
   "id": "77885caf",
   "metadata": {},
   "source": [
    "Identify outliers and bad data"
   ]
  },
  {
   "cell_type": "code",
   "execution_count": 11,
   "id": "1963a85a",
   "metadata": {},
   "outputs": [],
   "source": [
    "df = df[(df.Sex != 'Unknown') & (df.Sex != 'Missing')]\n",
    "df = df[(df.Ethinicity != 'Unknown') & (df.Ethinicity != 'Missing')]"
   ]
  },
  {
   "cell_type": "code",
   "execution_count": 12,
   "id": "a1279d0c",
   "metadata": {},
   "outputs": [
    {
     "name": "stdout",
     "output_type": "stream",
     "text": [
      "The size of previous data was - 32806678 rows and the size of the new one is - 683822 rows\n"
     ]
    }
   ],
   "source": [
    "size_cleaned = df.shape\n",
    "print(\"The size of previous data was - {prev[0]} rows and the size of the new one is - {after[0]} rows\".\n",
    "      format(prev=size_orig, after=size_cleaned))"
   ]
  },
  {
   "cell_type": "code",
   "execution_count": 13,
   "id": "4c9631fd",
   "metadata": {},
   "outputs": [],
   "source": [
    "CDCCovidData = df\n"
   ]
  },
  {
   "cell_type": "code",
   "execution_count": 14,
   "id": "09b45349",
   "metadata": {},
   "outputs": [
    {
     "data": {
      "text/plain": [
       "(683822, 19)"
      ]
     },
     "execution_count": 14,
     "metadata": {},
     "output_type": "execute_result"
    }
   ],
   "source": [
    "CDCCovidData.shape"
   ]
  },
  {
   "cell_type": "markdown",
   "id": "9b4e9cd9",
   "metadata": {},
   "source": [
    "**Creating SQL connection and loading table data into SQL**"
   ]
  },
  {
   "cell_type": "code",
   "execution_count": 15,
   "id": "02967f47",
   "metadata": {},
   "outputs": [],
   "source": [
    "from sqlalchemy import create_engine #Creating alchemy engine"
   ]
  },
  {
   "cell_type": "code",
   "execution_count": 16,
   "id": "bd315b88",
   "metadata": {},
   "outputs": [],
   "source": [
    "engine = create_engine('sqlite:///dsc540Project.db', echo=True)\n",
    "sqlite_connection = engine.connect()"
   ]
  },
  {
   "cell_type": "code",
   "execution_count": 17,
   "id": "b5a6cc33",
   "metadata": {},
   "outputs": [
    {
     "name": "stdout",
     "output_type": "stream",
     "text": [
      "2021-11-19 23:04:13,126 INFO sqlalchemy.engine.Engine PRAGMA main.table_info(\"CDCCovidData\")\n",
      "2021-11-19 23:04:13,127 INFO sqlalchemy.engine.Engine [raw sql] ()\n",
      "2021-11-19 23:04:13,128 INFO sqlalchemy.engine.Engine PRAGMA temp.table_info(\"CDCCovidData\")\n",
      "2021-11-19 23:04:13,128 INFO sqlalchemy.engine.Engine [raw sql] ()\n",
      "2021-11-19 23:04:13,131 INFO sqlalchemy.engine.Engine \n",
      "CREATE TABLE \"CDCCovidData\" (\n",
      "\t\"index\" BIGINT, \n",
      "\t\"CaseMonth\" TEXT, \n",
      "\t\"State\" TEXT, \n",
      "\t\"StateCode\" TEXT, \n",
      "\t\"County\" TEXT, \n",
      "\t\"CountyCode\" TEXT, \n",
      "\t\"AgeGroup\" TEXT, \n",
      "\t\"Sex\" TEXT, \n",
      "\t\"Race\" TEXT, \n",
      "\t\"Ethinicity\" TEXT, \n",
      "\t\"CasePositiveInterval\" TEXT, \n",
      "\t\"CaseOnsetInterval\" TEXT, \n",
      "\t\"IdentificationProcess\" TEXT, \n",
      "\t\"Exposure\" TEXT, \n",
      "\t\"CurrentStatus\" TEXT, \n",
      "\t\"SymptomsShown\" TEXT, \n",
      "\t\"Hospitalized\" TEXT, \n",
      "\t\"ICUAdmittance\" TEXT, \n",
      "\t\"Death\" TEXT, \n",
      "\t\"UnderlyingConditions\" TEXT\n",
      ")\n",
      "\n",
      "\n",
      "2021-11-19 23:04:13,132 INFO sqlalchemy.engine.Engine [no key 0.00095s] ()\n",
      "2021-11-19 23:04:13,134 INFO sqlalchemy.engine.Engine COMMIT\n",
      "2021-11-19 23:04:13,134 INFO sqlalchemy.engine.Engine CREATE INDEX \"ix_CDCCovidData_index\" ON \"CDCCovidData\" (\"index\")\n",
      "2021-11-19 23:04:13,135 INFO sqlalchemy.engine.Engine [no key 0.00038s] ()\n",
      "2021-11-19 23:04:13,137 INFO sqlalchemy.engine.Engine COMMIT\n",
      "2021-11-19 23:04:13,614 INFO sqlalchemy.engine.Engine BEGIN (implicit)\n",
      "2021-11-19 23:04:19,913 INFO sqlalchemy.engine.Engine INSERT INTO \"CDCCovidData\" (\"index\", \"CaseMonth\", \"State\", \"StateCode\", \"County\", \"CountyCode\", \"AgeGroup\", \"Sex\", \"Race\", \"Ethinicity\", \"CasePositiveInterval\", \"CaseOnsetInterval\", \"IdentificationProcess\", \"Exposure\", \"CurrentStatus\", \"SymptomsShown\", \"Hospitalized\", \"ICUAdmittance\", \"Death\", \"UnderlyingConditions\") VALUES (?, ?, ?, ?, ?, ?, ?, ?, ?, ?, ?, ?, ?, ?, ?, ?, ?, ?, ?, ?)\n",
      "2021-11-19 23:04:19,914 INFO sqlalchemy.engine.Engine [generated in 5.24084s] ((147, '2021-01', 'NC', '37', 'MONTGOMERY', '37123', '18 to 49 years', 'Male', 'White', 'Hispanic/Latino', '0', '0', 'Missing', 'Unknown', 'Laboratory-confirmed case', 'Symptomatic', 'No', 'Unknown', 'No', 'Yes'), (201, '2020-05', 'NC', '37', 'SAMPSON', '37163', '0 - 17 years', 'Female', 'White', 'Hispanic/Latino', '1', '0', 'Missing', 'Unknown', 'Laboratory-confirmed case', 'Symptomatic', 'No', 'Unknown', 'No', 'Yes'), (264, '2020-07', 'AR', '05', 'SEBASTIAN', '05131', '0 - 17 years', 'Female', 'White', 'Hispanic/Latino', '0', '0', 'Missing', 'Missing', 'Laboratory-confirmed case', 'Symptomatic', 'No', 'Missing', 'No', 'Yes'), (268, '2020-09', 'ID', '16', 'TWIN FALLS', '16083', '18 to 49 years', 'Male', 'White', 'Hispanic/Latino', '0', '0', 'Clinical evaluation', 'Missing', 'Laboratory-confirmed case', 'Symptomatic', 'No', 'Missing', 'No', 'Yes'), (347, '2021-04', 'OH', '39', 'MONTGOMERY', '39113', '18 to 49 years', 'Female', 'White', 'Hispanic/Latino', '0', '0', 'Clinical evaluation', 'Yes', 'Laboratory-confirmed case', 'Symptomatic', 'No', 'No', 'No', 'No'), (427, '2020-11', 'WY', '56', 'LARAMIE', '56021', '65+ years', 'Female', 'White', 'Hispanic/Latino', '1', '0', 'Missing', 'Yes', 'Laboratory-confirmed case', 'Symptomatic', 'Missing', 'Missing', 'Missing', 'Yes'), (620, '2020-12', 'AR', '05', 'CARROLL', '05015', '18 to 49 years', 'Female', 'White', 'Hispanic/Latino', '0', '0', 'Missing', 'Missing', 'Laboratory-confirmed case', 'Symptomatic', 'No', 'Missing', 'No', 'Yes'), (621, '2020-06', 'KS', '20', 'CRAWFORD', '20037', '18 to 49 years', 'Female', 'White', 'Hispanic/Latino', '0', '0', 'Clinical evaluation', 'Missing', 'Laboratory-confirmed case', 'Symptomatic', 'Yes', 'Unknown', 'No', 'Yes')  ... displaying 10 of 683822 total bound parameter sets ...  (29098612, '2021-03', 'NV', '32', 'CLARK', '32003', '50 to 64 years', 'Male', 'White', 'Non-Hispanic/Latino', '0', '0', 'Routine surveillance', 'Missing', 'Laboratory-confirmed case', 'Symptomatic', 'No', 'No', 'No', 'Yes'), (31268842, '2021-07', 'CA', '50', 'LOS ANGELES', '06037', '50 to 64 years', 'Male', 'Multiple/Other', 'Non-Hispanic/Latino', '0', '0', 'Missing', 'Yes', 'Laboratory-confirmed case', 'Symptomatic', 'No', 'Missing', 'No', 'Yes'))\n",
      "2021-11-19 23:04:22,171 INFO sqlalchemy.engine.Engine COMMIT\n",
      "2021-11-19 23:04:22,268 INFO sqlalchemy.engine.Engine SELECT name FROM sqlite_master WHERE type='table' ORDER BY name\n",
      "2021-11-19 23:04:22,268 INFO sqlalchemy.engine.Engine [raw sql] ()\n"
     ]
    }
   ],
   "source": [
    "sqlite_table = \"CDCCovidData\" #defining sqllite table and loading data\n",
    "CDCCovidData.to_sql(sqlite_table, sqlite_connection, if_exists='fail')"
   ]
  },
  {
   "cell_type": "code",
   "execution_count": 18,
   "id": "c935a6a6",
   "metadata": {},
   "outputs": [],
   "source": [
    "sqlite_connection.close()#connection close"
   ]
  },
  {
   "cell_type": "code",
   "execution_count": 19,
   "id": "d2d4cff3",
   "metadata": {},
   "outputs": [
    {
     "name": "stdout",
     "output_type": "stream",
     "text": [
      "We have 367 records from state AK\n",
      "We have 3 records from state AL\n",
      "We have 98693 records from state AR\n",
      "We have 1 records from state AZ\n",
      "We have 4 records from state CA\n",
      "We have 339 records from state CO\n",
      "We have 1 records from state CT\n",
      "We have 14 records from state FL\n",
      "We have 2 records from state GA\n",
      "We have 12841 records from state IA\n",
      "We have 10835 records from state ID\n",
      "We have 1 records from state IL\n",
      "We have 58 records from state IN\n",
      "We have 24405 records from state KS\n",
      "We have 1772 records from state KY\n",
      "We have 413 records from state LA\n",
      "We have 6 records from state MA\n",
      "We have 3 records from state MD\n",
      "We have 70225 records from state MN\n",
      "We have 3 records from state MS\n",
      "We have 66353 records from state NC\n",
      "We have 8 records from state NH\n",
      "We have 1 records from state NJ\n",
      "We have 58843 records from state NV\n",
      "We have 102253 records from state NY\n",
      "We have 63941 records from state OH\n",
      "We have 36188 records from state PA\n",
      "We have 2 records from state SC\n",
      "We have 2 records from state SD\n",
      "We have 41651 records from state TN\n",
      "We have 52005 records from state UT\n",
      "We have 3652 records from state VT\n",
      "We have 29917 records from state WA\n",
      "We have 9020 records from state WY\n"
     ]
    }
   ],
   "source": [
    "#connecting to DB to validate that the data got loaded\n",
    "import sqlite3 \n",
    "conn = sqlite3.connect(\"dsc540Project.db\")\n",
    "c = conn.cursor()\n",
    "for ppl, age in c.execute(\"SELECT count(*), State FROM CDCCovidData GROUP BY State\"):\n",
    "    print(\"We have {} records from state {}\".format(ppl, age))"
   ]
  },
  {
   "cell_type": "markdown",
   "id": "5649130b",
   "metadata": {},
   "source": [
    "# Loading milestone 3 Web Scraped data into SQL"
   ]
  },
  {
   "cell_type": "code",
   "execution_count": 20,
   "id": "fa6595b2",
   "metadata": {},
   "outputs": [],
   "source": [
    "#Load the necessary libraries\n",
    "import numpy as np\n",
    "import pandas as pd\n",
    "pd.options.mode.chained_assignment = None\n",
    "from bs4 import BeautifulSoup\n",
    "import requests"
   ]
  },
  {
   "cell_type": "code",
   "execution_count": 21,
   "id": "68bca81b",
   "metadata": {},
   "outputs": [
    {
     "data": {
      "text/plain": [
       "<Response [200]>"
      ]
     },
     "execution_count": 21,
     "metadata": {},
     "output_type": "execute_result"
    }
   ],
   "source": [
    "    url='https://www.worldometers.info/coronavirus/country/us/'\n",
    "#Create a handle, page, to handle the contents of the website\n",
    "page = requests.get(url)\n",
    "page"
   ]
  },
  {
   "cell_type": "code",
   "execution_count": 22,
   "id": "1e3d69d6",
   "metadata": {},
   "outputs": [],
   "source": [
    "#Rendering html vis BS\n",
    "soup = BeautifulSoup(page.text, 'html.parser')"
   ]
  },
  {
   "cell_type": "code",
   "execution_count": 23,
   "id": "fe935b96",
   "metadata": {},
   "outputs": [
    {
     "name": "stdout",
     "output_type": "stream",
     "text": [
      "<class 'bs4.element.Tag'>\n"
     ]
    }
   ],
   "source": [
    "#Stripping all tables\n",
    "all_tables = soup.find_all(\"table\")\n",
    "#Stripping specific table needed and validating that the type is a tag\n",
    "data_table = soup.find(\"table\", {\"id\": \"usa_table_countries_today\"})\n",
    "print(type(data_table))"
   ]
  },
  {
   "cell_type": "code",
   "execution_count": 24,
   "id": "e17a3e7d",
   "metadata": {},
   "outputs": [],
   "source": [
    "data_header = data_table.thead.findAll('tr', recursive=False)[0].findAll('th', recursive=False)\n",
    "#Extracting headers for columns\n",
    "data_headers = [th.get_text().strip() for th in data_header]"
   ]
  },
  {
   "cell_type": "code",
   "execution_count": 25,
   "id": "fe6e310a",
   "metadata": {},
   "outputs": [],
   "source": [
    "#Extracting all rows\n",
    "data_rows = data_table.tbody.findAll('tr')[1:]\n",
    "#Cleaning rows to get the data\n",
    "data_rows1 = [[td.get_text().strip() for td in tr.findAll('td')] for tr in data_rows]\n",
    "#load of data and headers into a data frame\n",
    "df1 = pd.DataFrame(data_rows1, columns=data_headers,dtype='unicode')"
   ]
  },
  {
   "cell_type": "code",
   "execution_count": 26,
   "id": "9a74dc12",
   "metadata": {},
   "outputs": [],
   "source": [
    "#Replacing headers\n",
    "df1.rename(columns={\"#\": \"ID\", \"USAState\": \"StateName\",\"Tests/\\n1M pop\":\"TestsPer1Mill\",\"Tot\\xa0Cases/1M pop\":\"TotalCasesPerMill\",\"Deaths/1M pop\":\"DeathsPerMill\"}, inplace=True)\n",
    "#dropping columns with values that are not readable and enhancing view to fit in single pane\n",
    "df_state_data=df1.drop(columns=['Source', 'Projections'])\n",
    "#Replacing empty cells with NaN and then replcing by 0 for readability\n",
    "df_state_data = df_state_data.replace(r'^\\s*$', np.NaN, regex=True)\n",
    "df_state_data.fillna(0, inplace=True)\n",
    "# Replaing non reported data N/A to Null so that it will be easier to merge in Milestone5\n",
    "df_state_data = df_state_data.replace('N/A', np.NaN, regex=True)\n",
    "df_state_data.fillna(0, inplace=True)\n",
    "worldometerData=df_state_data"
   ]
  },
  {
   "cell_type": "code",
   "execution_count": 27,
   "id": "cf940a21",
   "metadata": {},
   "outputs": [],
   "source": [
    "#US State name to 2 letter code Dictionary\n",
    "us_state_to_abbrev = {\n",
    "    \"Alabama\": \"AL\",\n",
    "    \"Alaska\": \"AK\",\n",
    "    \"Arizona\": \"AZ\",\n",
    "    \"Arkansas\": \"AR\",\n",
    "    \"California\": \"CA\",\n",
    "    \"Colorado\": \"CO\",\n",
    "    \"Connecticut\": \"CT\",\n",
    "    \"Delaware\": \"DE\",\n",
    "    \"Florida\": \"FL\",\n",
    "    \"Georgia\": \"GA\",\n",
    "    \"Hawaii\": \"HI\",\n",
    "    \"Idaho\": \"ID\",\n",
    "    \"Illinois\": \"IL\",\n",
    "    \"Indiana\": \"IN\",\n",
    "    \"Iowa\": \"IA\",\n",
    "    \"Kansas\": \"KS\",\n",
    "    \"Kentucky\": \"KY\",\n",
    "    \"Louisiana\": \"LA\",\n",
    "    \"Maine\": \"ME\",\n",
    "    \"Maryland\": \"MD\",\n",
    "    \"Massachusetts\": \"MA\",\n",
    "    \"Michigan\": \"MI\",\n",
    "    \"Minnesota\": \"MN\",\n",
    "    \"Mississippi\": \"MS\",\n",
    "    \"Missouri\": \"MO\",\n",
    "    \"Montana\": \"MT\",\n",
    "    \"Nebraska\": \"NE\",\n",
    "    \"Nevada\": \"NV\",\n",
    "    \"New Hampshire\": \"NH\",\n",
    "    \"New Jersey\": \"NJ\",\n",
    "    \"New Mexico\": \"NM\",\n",
    "    \"New York\": \"NY\",\n",
    "    \"North Carolina\": \"NC\",\n",
    "    \"North Dakota\": \"ND\",\n",
    "    \"Ohio\": \"OH\",\n",
    "    \"Oklahoma\": \"OK\",\n",
    "    \"Oregon\": \"OR\",\n",
    "    \"Pennsylvania\": \"PA\",\n",
    "    \"Rhode Island\": \"RI\",\n",
    "    \"South Carolina\": \"SC\",\n",
    "    \"South Dakota\": \"SD\",\n",
    "    \"Tennessee\": \"TN\",\n",
    "    \"Texas\": \"TX\",\n",
    "    \"Utah\": \"UT\",\n",
    "    \"Vermont\": \"VT\",\n",
    "    \"Virginia\": \"VA\",\n",
    "    \"Washington\": \"WA\",\n",
    "    \"West Virginia\": \"WV\",\n",
    "    \"Wisconsin\": \"WI\",\n",
    "    \"Wyoming\": \"WY\",\n",
    "    \"District of Columbia\": \"DC\",\n",
    "    \"American Samoa\": \"AS\",\n",
    "    \"Guam\": \"GU\",\n",
    "    \"Northern Mariana Islands\": \"MP\",\n",
    "    \"Puerto Rico\": \"PR\",\n",
    "    \"United States Minor Outlying Islands\": \"UM\",\n",
    "    \"U.S. Virgin Islands\": \"VI\",\n",
    "    \"District Of Columbia\":\"DC\",\n",
    "}\n",
    "    \n"
   ]
  },
  {
   "cell_type": "code",
   "execution_count": 28,
   "id": "b763eb2b",
   "metadata": {},
   "outputs": [],
   "source": [
    "#Replacing Statenames to 2 letter codes for merge\n",
    "worldometerData = worldometerData.replace({\"StateName\": us_state_to_abbrev})"
   ]
  },
  {
   "cell_type": "code",
   "execution_count": 29,
   "id": "9c7238bb",
   "metadata": {},
   "outputs": [
    {
     "data": {
      "text/plain": [
       "(51, 13)"
      ]
     },
     "execution_count": 29,
     "metadata": {},
     "output_type": "execute_result"
    }
   ],
   "source": [
    "worldometerData.shape"
   ]
  },
  {
   "cell_type": "code",
   "execution_count": 30,
   "id": "2d9fbc4e",
   "metadata": {},
   "outputs": [],
   "source": [
    "#changing object types to Int\n",
    "worldometerData['TotalCases'] = worldometerData['TotalCases'].str.replace(',', '').astype(int)\n",
    "worldometerData['TotalDeaths']= worldometerData['TotalDeaths'].str.replace(',', '').astype(int)\n",
    "worldometerData['TotalRecovered']=worldometerData['TotalRecovered'].str.replace(',', '').astype(int,errors='ignore')\n",
    "worldometerData['ActiveCases']=worldometerData['ActiveCases'].str.replace(',', '').astype(int,errors='ignore')\n",
    "worldometerData['TotalCasesPerMill']=worldometerData['TotalCasesPerMill'].str.replace(',', '').astype(int)\n",
    "worldometerData['DeathsPerMill']=worldometerData['DeathsPerMill'].str.replace(',', '').astype(int)\n",
    "worldometerData['TotalTests']=worldometerData['TotalTests'].str.replace(',', '').astype(int)\n",
    "worldometerData['TestsPer1Mill']=worldometerData['TestsPer1Mill'].str.replace(',', '').astype(int)\n",
    "worldometerData['Population']=worldometerData['Population'].str.replace(',', '').astype(int)"
   ]
  },
  {
   "cell_type": "code",
   "execution_count": 31,
   "id": "65939033",
   "metadata": {},
   "outputs": [],
   "source": [
    "#inplace Null replacement by 0\n",
    "worldometerData.fillna(0, inplace=True)"
   ]
  },
  {
   "cell_type": "markdown",
   "id": "9ebdce91",
   "metadata": {},
   "source": [
    "**Creating SQL connection and loading table data into SQL**"
   ]
  },
  {
   "cell_type": "code",
   "execution_count": 32,
   "id": "d1b47793",
   "metadata": {},
   "outputs": [],
   "source": [
    "engine = create_engine('sqlite:///dsc540Project.db', echo=True)\n",
    "sqlite_connection = engine.connect()"
   ]
  },
  {
   "cell_type": "code",
   "execution_count": 33,
   "id": "09285604",
   "metadata": {},
   "outputs": [
    {
     "name": "stdout",
     "output_type": "stream",
     "text": [
      "2021-11-19 23:04:23,461 INFO sqlalchemy.engine.Engine PRAGMA main.table_info(\"worldometerData\")\n",
      "2021-11-19 23:04:23,462 INFO sqlalchemy.engine.Engine [raw sql] ()\n",
      "2021-11-19 23:04:23,463 INFO sqlalchemy.engine.Engine PRAGMA temp.table_info(\"worldometerData\")\n",
      "2021-11-19 23:04:23,464 INFO sqlalchemy.engine.Engine [raw sql] ()\n",
      "2021-11-19 23:04:23,465 INFO sqlalchemy.engine.Engine \n",
      "CREATE TABLE \"worldometerData\" (\n",
      "\t\"index\" BIGINT, \n",
      "\t\"ID\" TEXT, \n",
      "\t\"StateName\" TEXT, \n",
      "\t\"TotalCases\" BIGINT, \n",
      "\t\"NewCases\" FLOAT, \n",
      "\t\"TotalDeaths\" BIGINT, \n",
      "\t\"NewDeaths\" FLOAT, \n",
      "\t\"TotalRecovered\" TEXT, \n",
      "\t\"ActiveCases\" TEXT, \n",
      "\t\"TotalCasesPerMill\" BIGINT, \n",
      "\t\"DeathsPerMill\" BIGINT, \n",
      "\t\"TotalTests\" BIGINT, \n",
      "\t\"TestsPer1Mill\" BIGINT, \n",
      "\t\"Population\" BIGINT\n",
      ")\n",
      "\n",
      "\n",
      "2021-11-19 23:04:23,466 INFO sqlalchemy.engine.Engine [no key 0.00051s] ()\n",
      "2021-11-19 23:04:23,467 INFO sqlalchemy.engine.Engine COMMIT\n",
      "2021-11-19 23:04:23,468 INFO sqlalchemy.engine.Engine CREATE INDEX \"ix_worldometerData_index\" ON \"worldometerData\" (\"index\")\n",
      "2021-11-19 23:04:23,468 INFO sqlalchemy.engine.Engine [no key 0.00041s] ()\n",
      "2021-11-19 23:04:23,470 INFO sqlalchemy.engine.Engine COMMIT\n",
      "2021-11-19 23:04:23,473 INFO sqlalchemy.engine.Engine BEGIN (implicit)\n",
      "2021-11-19 23:04:23,475 INFO sqlalchemy.engine.Engine INSERT INTO \"worldometerData\" (\"index\", \"ID\", \"StateName\", \"TotalCases\", \"NewCases\", \"TotalDeaths\", \"NewDeaths\", \"TotalRecovered\", \"ActiveCases\", \"TotalCasesPerMill\", \"DeathsPerMill\", \"TotalTests\", \"TestsPer1Mill\", \"Population\") VALUES (?, ?, ?, ?, ?, ?, ?, ?, ?, ?, ?, ?, ?, ?)\n",
      "2021-11-19 23:04:23,475 INFO sqlalchemy.engine.Engine [generated in 0.00100s] ((0, '1', 'CA', 4909984, 0.0, 73948, 0.0, 0, 0, 124265, 1872, 108374406, 2742807, 39512223), (1, '2', 'TX', 4304053, 0.0, 73686, 0.0, '4152087', '78280', 148437, 2541, 46858258, 1616032, 28995881), (2, '3', 'FL', 3725139, 0.0, 61081, 0.0, '3495739', '168319', 173442, 2844, 43094134, 2006456, 21477737), (3, '4', 'NY', 2745048, 0.0, 57702, 0.0, '2292893', '394453', 141108, 2966, 79004607, 4061190, 19453561), (4, '5', 'IL', 1763866, 0.0, 29157, 0.0, '1639752', '94957', 139196, 2301, 37895788, 2990556, 12671821), (5, '6', 'PA', 1674328, 0.0, 32825, 0.0, '1540381', '101122', 130787, 2564, 19447400, 1519092, 12801989), (6, '7', 'GA', 1654649, 0.0, 30162, 0.0, '1335306', '289181', 155843, 2841, 17425053, 1641175, 10617423), (7, '8', 'OH', 1633480, 0.0, 26063, 0.0, '1516520', '90897', 139744, 2230, 17809967, 1523639, 11689100)  ... displaying 10 of 51 total bound parameter sets ...  (49, '50', 'DC', 66028, 0.0, 1196, 0.0, 0, 0, 93557, 1695, 2342474, 3319132, 705749), (50, '51', 'VT', 46449, 0.0, 401, 0.0, '38392', '7656', 74439, 643, 2481704, 3977160, 623989))\n",
      "2021-11-19 23:04:23,477 INFO sqlalchemy.engine.Engine COMMIT\n",
      "2021-11-19 23:04:23,478 INFO sqlalchemy.engine.Engine SELECT name FROM sqlite_master WHERE type='table' ORDER BY name\n",
      "2021-11-19 23:04:23,479 INFO sqlalchemy.engine.Engine [raw sql] ()\n"
     ]
    }
   ],
   "source": [
    "sqlite_table = \"worldometerData\" #defining sqllite table and loading data\n",
    "worldometerData.to_sql(sqlite_table, sqlite_connection, if_exists='fail')"
   ]
  },
  {
   "cell_type": "code",
   "execution_count": 34,
   "id": "c8af63ff",
   "metadata": {},
   "outputs": [],
   "source": [
    "sqlite_connection.close()#connection close"
   ]
  },
  {
   "cell_type": "code",
   "execution_count": 35,
   "id": "5c952dc3",
   "metadata": {},
   "outputs": [
    {
     "name": "stdout",
     "output_type": "stream",
     "text": [
      "We have (51,) state data in worldometerData table\n"
     ]
    }
   ],
   "source": [
    "#connecting to DB to validate that the data got loaded\n",
    "import sqlite3 \n",
    "conn = sqlite3.connect(\"dsc540Project.db\")\n",
    "c = conn.cursor()\n",
    "for count in c.execute(\"SELECT count(*) FROM worldometerData\"):\n",
    "    print(\"We have {} state data in worldometerData table\".format(count))"
   ]
  },
  {
   "cell_type": "markdown",
   "id": "88001150",
   "metadata": {},
   "source": [
    "# Loading milestone 4 API Scraped data into SQL\n",
    "\n",
    "added additional comments to describe on data load process from API"
   ]
  },
  {
   "cell_type": "code",
   "execution_count": 36,
   "id": "98cc782f",
   "metadata": {},
   "outputs": [],
   "source": [
    "#Importing needed libraries\n",
    "import urllib.request, urllib.parse, urllib.error\n",
    "import json\n",
    "import requests\n",
    "import ssl\n",
    "import re\n",
    "import pandas as pd\n",
    "import io\n",
    "import numpy as np"
   ]
  },
  {
   "cell_type": "code",
   "execution_count": 37,
   "id": "0907871f",
   "metadata": {},
   "outputs": [],
   "source": [
    "#Resetting SSL context to avoid errors in accessing https certs\n",
    "ctx = ssl.create_default_context()\n",
    "ctx.check_hostname = False\n",
    "ctx.verify_mode = ssl.CERT_NONE"
   ]
  },
  {
   "cell_type": "markdown",
   "id": "20d3e67f",
   "metadata": {},
   "source": [
    "**I have created an API key from the COVID data API website and have loaded into APIkeys file with key name as COVIDapi**\n",
    "\n"
   ]
  },
  {
   "cell_type": "code",
   "execution_count": 38,
   "id": "24566362",
   "metadata": {},
   "outputs": [],
   "source": [
    "#Retrieving API Key for calling the COVID API\n",
    "with open('APIkeys.json') as f:\n",
    "    keys = json.load(f)\n",
    "    covidapi = keys['COVIDapi']"
   ]
  },
  {
   "cell_type": "code",
   "execution_count": 39,
   "id": "ef46369a",
   "metadata": {},
   "outputs": [],
   "source": [
    "#Forming URL parameters\n",
    "keyurl = 'https://api.covidactnow.org/v2/states.csv?'\n",
    "apikey = 'apiKey='+covidapi"
   ]
  },
  {
   "cell_type": "code",
   "execution_count": 40,
   "id": "9e9feccc",
   "metadata": {},
   "outputs": [
    {
     "name": "stdout",
     "output_type": "stream",
     "text": [
      "Retrieving the data from... \n",
      "https://api.covidactnow.org/v2/states.csv?apiKey=3d4d39a3bf274ed9bfef33842b6da7ed\n"
     ]
    }
   ],
   "source": [
    "#Calling the URL to retrieve CSV data and saving it into a Pandas Data frame\n",
    "url = keyurl +apikey\n",
    "print('Retrieving the data from... ')\n",
    "print(url) # validating the URL\n",
    "uh = urllib.request.urlopen(url) # performing URL call to open with URL + API Key\n",
    "data = uh.read() # data retrieved in CSV format is loaded into data variable\n",
    "rawData = pd.read_csv(io.StringIO(data.decode('utf-8'))) # formatting data read from API In CSV format and loading into a data frame"
   ]
  },
  {
   "cell_type": "code",
   "execution_count": 41,
   "id": "3f49dd8f",
   "metadata": {},
   "outputs": [
    {
     "data": {
      "text/plain": [
       "(53, 52)"
      ]
     },
     "execution_count": 41,
     "metadata": {},
     "output_type": "execute_result"
    }
   ],
   "source": [
    "#Validating size of dataframe\n",
    "rawData.shape"
   ]
  },
  {
   "cell_type": "code",
   "execution_count": 42,
   "id": "cdc844a9",
   "metadata": {},
   "outputs": [],
   "source": [
    "#Renaming the columns and loading into a new data frame\n",
    "workingData=rawData.rename(columns={\"actuals.cases\": \"TotalCases\",\n",
    "\"actuals.deaths\": \"TotalDeaths\",\n",
    "\"actuals.positiveTests\": \"TotalPositiveTests\",\n",
    "\"actuals.negativeTests\": \"TotalNegativeTests\",\n",
    "\"actuals.contactTracers\": \"NumberOfContactTracers\",\n",
    "\"actuals.hospitalBeds.capacity\": \"HospitalBedsCapacity\",\n",
    "\"actuals.hospitalBeds.currentUsageTotal\": \"BedsUsageTotal\",\n",
    "\"actuals.hospitalBeds.currentUsageCovid\": \"BedsUsagebyCovid\",\n",
    "\"actuals.icuBeds.capacity\": \"ICUBedsCapacity\",\n",
    "\"actuals.icuBeds.currentUsageTotal\": \"ICUBedsUsageTotal\",\n",
    "\"actuals.icuBeds.currentUsageCovid\": \"ICUBedsUsagebyCovid\",\n",
    "\"actuals.newCases\": \"NewCases\",\n",
    "\"actuals.vaccinesDistributed\": \"VaccinesDistributed\",\n",
    "\"actuals.vaccinationsInitiated\": \"VaccinationStarted\",\n",
    "\"actuals.vaccinationsCompleted\": \"VaccinationCompleted\",\n",
    "\"metrics.testPositivityRatio\": \"CovidTestPositivityRatio\",\n",
    "\"metrics.caseDensity\": \"CaseDensity\",\n",
    "\"metrics.contactTracerCapacityRatio\": \"ContactTracerCapacityRatio\",\n",
    "\"metrics.infectionRate\": \"InfectionRate\",\n",
    "\"metrics.infectionRateCI90\": \"InfactionRate90Days\",\n",
    "\"metrics.icuCapacityRatio\": \"ICUCapacityRatio\",\n",
    "\"riskLevels.overall\": \"OverallRiskLevels\",\n",
    "\"metrics.vaccinationsInitiatedRatio\": \"VaccinationInitiationRatio\",\n",
    "\"metrics.vaccinationsCompletedRatio\": \"VacconationCompletionRatio\",\n",
    "\"actuals.newDeaths\": \"NewDeaths\",\n",
    "\"actuals.vaccinesAdministered\": \"TotalVaccinesAdministered\"})"
   ]
  },
  {
   "cell_type": "code",
   "execution_count": 43,
   "id": "df174ce8",
   "metadata": {},
   "outputs": [],
   "source": [
    "#Dropping columns that are not needed to reduce the size of the dataset\n",
    "workingData=workingData.drop(columns=['fips','level','country', 'county','lat','long','locationId','unused1','unused2','unused3','unused4','unused5','unused6','unused7','unused8'])"
   ]
  },
  {
   "cell_type": "code",
   "execution_count": 44,
   "id": "003da1d1",
   "metadata": {},
   "outputs": [],
   "source": [
    "#Replacing empty cells with NaN and then replcing by 0 for readability\n",
    "workingData = workingData.replace(r'^\\s*$', np.NaN, regex=True)\n",
    "workingData.fillna(0, inplace=True)"
   ]
  },
  {
   "cell_type": "code",
   "execution_count": 45,
   "id": "76984fea",
   "metadata": {},
   "outputs": [],
   "source": [
    "workingData['lastUpdatedDate'] = pd.to_datetime(workingData['lastUpdatedDate'])\n",
    "workingData['TotalCases']=workingData['TotalCases'].astype(int,errors='raise')\n",
    "workingData['TotalDeaths']=workingData['TotalDeaths'].astype(int,errors='raise')\n",
    "workingData['TotalPositiveTests']=workingData['TotalPositiveTests'].astype(int,errors='raise')\n",
    "workingData['TotalNegativeTests']=workingData['TotalNegativeTests'].astype(int,errors='raise')\n",
    "workingData['NumberOfContactTracers']=workingData['NumberOfContactTracers'].astype(int,errors='raise')\n",
    "workingData['HospitalBedsCapacity']=workingData['HospitalBedsCapacity'].astype(int,errors='raise')\n",
    "workingData['BedsUsageTotal']=workingData['BedsUsageTotal'].astype(int,errors='raise')\n",
    "workingData['BedsUsagebyCovid']=workingData['BedsUsagebyCovid'].astype(int,errors='raise')\n",
    "workingData['ICUBedsCapacity']=workingData['ICUBedsCapacity'].astype(int,errors='raise')\n",
    "workingData['ICUBedsUsageTotal']=workingData['ICUBedsUsageTotal'].astype(int,errors='raise')\n",
    "workingData['ICUBedsUsagebyCovid']=workingData['ICUBedsUsagebyCovid'].astype(int,errors='raise')\n",
    "workingData['NewCases']=workingData['NewCases'].astype(int,errors='raise')\n",
    "workingData['VaccinesDistributed']=workingData['VaccinesDistributed'].astype(int,errors='raise')\n",
    "workingData['VaccinationStarted']=workingData['VaccinationStarted'].astype(int,errors='raise')\n",
    "workingData['VaccinationCompleted']=workingData['VaccinationCompleted'].astype(int,errors='raise')\n",
    "workingData['CaseDensity']=workingData['CaseDensity'].astype(int,errors='raise')\n",
    "workingData['NewDeaths']=workingData['NewDeaths'].astype(int,errors='raise')\n",
    "workingData['TotalVaccinesAdministered']=workingData['TotalVaccinesAdministered'].astype(int,errors='raise')"
   ]
  },
  {
   "cell_type": "code",
   "execution_count": 46,
   "id": "282c8a61",
   "metadata": {},
   "outputs": [],
   "source": [
    "#loading cleaned data into a new Data frame\n",
    "COVIDApiData = workingData"
   ]
  },
  {
   "cell_type": "markdown",
   "id": "efcd1a8c",
   "metadata": {},
   "source": [
    "**Loading data into SQL DB**"
   ]
  },
  {
   "cell_type": "code",
   "execution_count": 47,
   "id": "ada451a9",
   "metadata": {},
   "outputs": [],
   "source": [
    "engine = create_engine('sqlite:///dsc540Project.db', echo=True)\n",
    "sqlite_connection = engine.connect()"
   ]
  },
  {
   "cell_type": "code",
   "execution_count": 48,
   "id": "1af9c155",
   "metadata": {},
   "outputs": [
    {
     "name": "stdout",
     "output_type": "stream",
     "text": [
      "2021-11-19 23:04:23,806 INFO sqlalchemy.engine.Engine PRAGMA main.table_info(\"COVIDApiData\")\n",
      "2021-11-19 23:04:23,807 INFO sqlalchemy.engine.Engine [raw sql] ()\n",
      "2021-11-19 23:04:23,808 INFO sqlalchemy.engine.Engine PRAGMA temp.table_info(\"COVIDApiData\")\n",
      "2021-11-19 23:04:23,809 INFO sqlalchemy.engine.Engine [raw sql] ()\n",
      "2021-11-19 23:04:23,812 INFO sqlalchemy.engine.Engine \n",
      "CREATE TABLE \"COVIDApiData\" (\n",
      "\t\"index\" BIGINT, \n",
      "\tstate TEXT, \n",
      "\tpopulation BIGINT, \n",
      "\t\"CovidTestPositivityRatio\" FLOAT, \n",
      "\t\"metrics.testPositivityRatioDetails.source\" TEXT, \n",
      "\t\"CaseDensity\" BIGINT, \n",
      "\t\"ContactTracerCapacityRatio\" FLOAT, \n",
      "\t\"InfectionRate\" FLOAT, \n",
      "\t\"InfactionRate90Days\" FLOAT, \n",
      "\t\"ICUCapacityRatio\" FLOAT, \n",
      "\t\"OverallRiskLevels\" BIGINT, \n",
      "\t\"riskLevels.testPositivityRatio\" BIGINT, \n",
      "\t\"riskLevels.caseDensity\" BIGINT, \n",
      "\t\"riskLevels.contactTracerCapacityRatio\" BIGINT, \n",
      "\t\"riskLevels.infectionRate\" BIGINT, \n",
      "\t\"riskLevels.icuCapacityRatio\" BIGINT, \n",
      "\t\"TotalCases\" BIGINT, \n",
      "\t\"TotalDeaths\" BIGINT, \n",
      "\t\"TotalPositiveTests\" BIGINT, \n",
      "\t\"TotalNegativeTests\" BIGINT, \n",
      "\t\"NumberOfContactTracers\" BIGINT, \n",
      "\t\"HospitalBedsCapacity\" BIGINT, \n",
      "\t\"BedsUsageTotal\" BIGINT, \n",
      "\t\"BedsUsagebyCovid\" BIGINT, \n",
      "\t\"ICUBedsCapacity\" BIGINT, \n",
      "\t\"ICUBedsUsageTotal\" BIGINT, \n",
      "\t\"ICUBedsUsagebyCovid\" BIGINT, \n",
      "\t\"NewCases\" BIGINT, \n",
      "\t\"VaccinesDistributed\" BIGINT, \n",
      "\t\"VaccinationStarted\" BIGINT, \n",
      "\t\"VaccinationCompleted\" BIGINT, \n",
      "\t\"lastUpdatedDate\" DATETIME, \n",
      "\turl TEXT, \n",
      "\t\"VaccinationInitiationRatio\" FLOAT, \n",
      "\t\"VacconationCompletionRatio\" FLOAT, \n",
      "\t\"NewDeaths\" BIGINT, \n",
      "\t\"TotalVaccinesAdministered\" BIGINT, \n",
      "\t\"cdcTransmissionLevel\" BIGINT\n",
      ")\n",
      "\n",
      "\n",
      "2021-11-19 23:04:23,813 INFO sqlalchemy.engine.Engine [no key 0.00073s] ()\n",
      "2021-11-19 23:04:23,815 INFO sqlalchemy.engine.Engine COMMIT\n",
      "2021-11-19 23:04:23,816 INFO sqlalchemy.engine.Engine CREATE INDEX \"ix_COVIDApiData_index\" ON \"COVIDApiData\" (\"index\")\n",
      "2021-11-19 23:04:23,817 INFO sqlalchemy.engine.Engine [no key 0.00057s] ()\n",
      "2021-11-19 23:04:23,818 INFO sqlalchemy.engine.Engine COMMIT\n",
      "2021-11-19 23:04:23,822 INFO sqlalchemy.engine.Engine BEGIN (implicit)\n",
      "2021-11-19 23:04:23,826 INFO sqlalchemy.engine.Engine INSERT INTO \"COVIDApiData\" (\"index\", state, population, \"CovidTestPositivityRatio\", \"metrics.testPositivityRatioDetails.source\", \"CaseDensity\", \"ContactTracerCapacityRatio\", \"InfectionRate\", \"InfactionRate90Days\", \"ICUCapacityRatio\", \"OverallRiskLevels\", \"riskLevels.testPositivityRatio\", \"riskLevels.caseDensity\", \"riskLevels.contactTracerCapacityRatio\", \"riskLevels.infectionRate\", \"riskLevels.icuCapacityRatio\", \"TotalCases\", \"TotalDeaths\", \"TotalPositiveTests\", \"TotalNegativeTests\", \"NumberOfContactTracers\", \"HospitalBedsCapacity\", \"BedsUsageTotal\", \"BedsUsagebyCovid\", \"ICUBedsCapacity\", \"ICUBedsUsageTotal\", \"ICUBedsUsagebyCovid\", \"NewCases\", \"VaccinesDistributed\", \"VaccinationStarted\", \"VaccinationCompleted\", \"lastUpdatedDate\", url, \"VaccinationInitiationRatio\", \"VacconationCompletionRatio\", \"NewDeaths\", \"TotalVaccinesAdministered\", \"cdcTransmissionLevel\") VALUES (?, ?, ?, ?, ?, ?, ?, ?, ?, ?, ?, ?, ?, ?, ?, ?, ?, ?, ?, ?, ?, ?, ?, ?, ?, ?, ?, ?, ?, ?, ?, ?, ?, ?, ?, ?, ?, ?)\n",
      "2021-11-19 23:04:23,827 INFO sqlalchemy.engine.Engine [generated in 0.00183s] ((0, 'AK', 731545, 0.06, 'other', 63, 0.1, 0.88, 0.1, 0.83, 3, 1, 3, 2, 0, 2, 146600, 822, 152591, 2851394, 235, 1583, 1228, 137, 134, 111, 26, 520, 1253955, 450794, 393233, '2021-11-20 00:00:00.000000', 'https://covidactnow.org/us/alaska-ak', 0.616, 0.538, 0, 930894, 3), (1, 'AL', 4903185, 0.043, 'other', 9, 0.17, 0.92, 0.1, 0.87, 1, 1, 1, 1, 1, 3, 838918, 16043, 791664, 5409344, 404, 14715, 11633, 403, 1531, 1331, 95, 492, 7750770, 2731073, 2237829, '2021-11-20 00:00:00.000000', 'https://covidactnow.org/us/alabama-al', 0.557, 0.456, 18, 5105635, 2), (2, 'AR', 3017804, 0.055, 'other', 19, 0.27, 1.12, 0.1, 0.8, 2, 1, 2, 1, 2, 1, 522460, 8599, 323253, 3489424, 790, 9332, 7035, 389, 951, 760, 136, 907, 4785710, 1792577, 1473064, '2021-11-20 00:00:00.000000', 'https://covidactnow.org/us/arkansas-ar', 0.594, 0.488, 4, 3416560, 3), (3, 'AZ', 7278717, 0.135, 'other', 49, 0.02, 1.07, 0.1, 0.68, 3, 2, 3, 2, 1, 0, 1226735, 21808, 1245050, 10085697, 396, 17296, 13298, 2403, 2223, 1515, 543, 4184, 11552250, 4582346, 3939188, '2021-11-20 00:00:00.000000', 'https://covidactnow.org/us/arizona-az', 0.63, 0.541, 56, 9274451, 3), (4, 'CA', 39512223, 0.021, 'other', 13, 0.4, 0.94, 0.1, 0.78, 2, 0, 2, 1, 1, 1, 5031042, 73781, 5016148, 88152795, 10600, 63892, 50964, 3635, 7072, 5492, 939, 6627, 68761895, 30499532, 24692255, '2021-11-20 00:00:00.000000', 'https://covidactnow.org/us/california-ca', 0.772, 0.625, 167, 57552889, 2), (5, 'CO', 5758736, 0.101, 'other', 55, 0.08, 1.04, 0.1, 0.83, 3, 2, 3, 2, 1, 2, 805479, 9018, 803699, 10695314, 1300, 11768, 8863, 1586, 1298, 1071, 513, 4717, 9802245, 4029043, 3605359, '2021-11-20 00:00:00.000000', 'https://covidactnow.org/us/colorado-co', 0.7, 0.626, 44, 8284177, 3), (6, 'CT', 3565287, 0.034, 'other', 19, 0.25, 1.25, 0.1, 0.59, 2, 1, 2, 1, 2, 0, 411234, 8834, 536659, 11066435, 860, 8401, 6936, 289, 1025, 600, 55, 747, 6672845, 2925565, 2550060, '2021-11-20 00:00:00.000000', 'https://covidactnow.org/us/connecticut-ct', 0.821, 0.715, 0, 5766727, 3), (7, 'DC', 705749, 0.014, 'other', 14, 0.51, 1.04, 0.15, 0.81, 2, 0, 2, 1, 1, 2, 65889, 1196, 94903, 3119852, 268, 3494, 2814, 73, 340, 276, 16, 96, 1425025, 555016, 449491, '2021-11-20 00:00:00.000000', 'https://covidactnow.org/us/district_of_columbia-dc', 0.786, 0.637, 1, 1132019, 3)  ... displaying 10 of 53 total bound parameter sets ...  (51, 'WV', 1792147, 0.098, 'other', 44, 0.06, 0.99, 0.1, 0.79, 3, 1, 3, 2, 1, 1, 286249, 4717, 318428, 3623527, 248, 6050, 4861, 551, 630, 498, 140, 1114, 3325145, 884330, 737859, '2021-11-20 00:00:00.000000', 'https://covidactnow.org/us/west_virginia-wv', 0.493, 0.412, 19, 1598146, 3), (52, 'WY', 578759, 0.079, 'other', 58, 0.03, 0.95, 0.1, 0.54, 3, 1, 3, 2, 1, 0, 109083, 1347, 84019, 1050425, 50, 1748, 958, 150, 138, 75, 30, 425, 801755, 304735, 260997, '2021-11-20 00:00:00.000000', 'https://covidactnow.org/us/wyoming-wy', 0.527, 0.451, 0, 613828, 3))\n",
      "2021-11-19 23:04:23,830 INFO sqlalchemy.engine.Engine COMMIT\n",
      "2021-11-19 23:04:23,831 INFO sqlalchemy.engine.Engine SELECT name FROM sqlite_master WHERE type='table' ORDER BY name\n",
      "2021-11-19 23:04:23,832 INFO sqlalchemy.engine.Engine [raw sql] ()\n"
     ]
    }
   ],
   "source": [
    "sqlite_table = \"COVIDApiData\" #defining sqllite table and loading data\n",
    "COVIDApiData.to_sql(sqlite_table, sqlite_connection, if_exists='fail')"
   ]
  },
  {
   "cell_type": "code",
   "execution_count": 49,
   "id": "0b389b01",
   "metadata": {},
   "outputs": [],
   "source": [
    "sqlite_connection.close()#connection close"
   ]
  },
  {
   "cell_type": "code",
   "execution_count": 50,
   "id": "5882ceca",
   "metadata": {},
   "outputs": [
    {
     "name": "stdout",
     "output_type": "stream",
     "text": [
      "We have data from (53,) COVIDApiData table\n"
     ]
    }
   ],
   "source": [
    "#connecting to DB to validate that the data got loaded \n",
    "conn = sqlite3.connect(\"dsc540Project.db\")\n",
    "c = conn.cursor()\n",
    "for state in c.execute(\"SELECT count(*) FROM COVIDApiData\"):\n",
    "    print(\"We have data from {} COVIDApiData table\".format(state))"
   ]
  },
  {
   "cell_type": "code",
   "execution_count": 51,
   "id": "109d0ed5",
   "metadata": {},
   "outputs": [],
   "source": [
    "#Merging Web and CSV data from Milestone3 and Milestone4\n",
    "conn = sqlite3.connect(\"dsc540Project.db\")\n",
    "cur = conn.cursor()\n",
    "cur.execute('''SELECT web.StateName,web.TotalCases,\n",
    "                        web.NewCases,\n",
    "                        web.TotalDeaths,\n",
    "                        web.NewDeaths,\n",
    "                        web.TotalRecovered,\n",
    "                        web.ActiveCases,\n",
    "                        web.TotalCasesPerMill,\n",
    "                        web.DeathsPerMill,\n",
    "                        web.TotalTests,\n",
    "                        web.TestsPer1Mill,\n",
    "                        web.Population,\n",
    "                        api.CovidTestPositivityRatio,\n",
    "                        api.InfectionRate,\n",
    "                        api.TotalPositiveTests,\n",
    "                        api.TotalNegativeTests,\n",
    "                        api.HospitalBedsCapacity,\n",
    "                        api.BedsUsageTotal,\n",
    "                        api.BedsUsagebyCovid,\n",
    "                        api.ICUBedsCapacity,\n",
    "                        api.ICUBedsUsageTotal,\n",
    "                        api.ICUBedsUsagebyCovid,\n",
    "                        api.VaccinesDistributed,\n",
    "                        api.VaccinationStarted,\n",
    "                        api.VaccinationCompleted,\n",
    "                        api.TotalVaccinesAdministered\n",
    "                      FROM worldometerData web\n",
    "                      LEFT JOIN COVIDApiData api\n",
    "                          ON web.StateName = api.state;''')\n",
    "webAPI = pd.DataFrame(cur.fetchall())\n",
    "webAPI.columns = [x[0] for x in cur.description]\n",
    "sqlite_connection.close()"
   ]
  },
  {
   "cell_type": "code",
   "execution_count": 52,
   "id": "2a7ede67",
   "metadata": {},
   "outputs": [
    {
     "name": "stdout",
     "output_type": "stream",
     "text": [
      "2021-11-19 23:04:23,857 INFO sqlalchemy.engine.Engine PRAGMA main.table_info(\"webAPI\")\n",
      "2021-11-19 23:04:23,858 INFO sqlalchemy.engine.Engine [raw sql] ()\n",
      "2021-11-19 23:04:23,859 INFO sqlalchemy.engine.Engine PRAGMA temp.table_info(\"webAPI\")\n",
      "2021-11-19 23:04:23,859 INFO sqlalchemy.engine.Engine [raw sql] ()\n",
      "2021-11-19 23:04:23,861 INFO sqlalchemy.engine.Engine \n",
      "CREATE TABLE \"webAPI\" (\n",
      "\t\"index\" BIGINT, \n",
      "\t\"StateName\" TEXT, \n",
      "\t\"TotalCases\" BIGINT, \n",
      "\t\"NewCases\" FLOAT, \n",
      "\t\"TotalDeaths\" BIGINT, \n",
      "\t\"NewDeaths\" FLOAT, \n",
      "\t\"TotalRecovered\" TEXT, \n",
      "\t\"ActiveCases\" TEXT, \n",
      "\t\"TotalCasesPerMill\" BIGINT, \n",
      "\t\"DeathsPerMill\" BIGINT, \n",
      "\t\"TotalTests\" BIGINT, \n",
      "\t\"TestsPer1Mill\" BIGINT, \n",
      "\t\"Population\" BIGINT, \n",
      "\t\"CovidTestPositivityRatio\" FLOAT, \n",
      "\t\"InfectionRate\" FLOAT, \n",
      "\t\"TotalPositiveTests\" BIGINT, \n",
      "\t\"TotalNegativeTests\" BIGINT, \n",
      "\t\"HospitalBedsCapacity\" BIGINT, \n",
      "\t\"BedsUsageTotal\" BIGINT, \n",
      "\t\"BedsUsagebyCovid\" BIGINT, \n",
      "\t\"ICUBedsCapacity\" BIGINT, \n",
      "\t\"ICUBedsUsageTotal\" BIGINT, \n",
      "\t\"ICUBedsUsagebyCovid\" BIGINT, \n",
      "\t\"VaccinesDistributed\" BIGINT, \n",
      "\t\"VaccinationStarted\" BIGINT, \n",
      "\t\"VaccinationCompleted\" BIGINT, \n",
      "\t\"TotalVaccinesAdministered\" BIGINT\n",
      ")\n",
      "\n",
      "\n",
      "2021-11-19 23:04:23,862 INFO sqlalchemy.engine.Engine [no key 0.00052s] ()\n",
      "2021-11-19 23:04:23,863 INFO sqlalchemy.engine.Engine COMMIT\n",
      "2021-11-19 23:04:23,864 INFO sqlalchemy.engine.Engine CREATE INDEX \"ix_webAPI_index\" ON \"webAPI\" (\"index\")\n",
      "2021-11-19 23:04:23,864 INFO sqlalchemy.engine.Engine [no key 0.00042s] ()\n",
      "2021-11-19 23:04:23,865 INFO sqlalchemy.engine.Engine COMMIT\n",
      "2021-11-19 23:04:23,868 INFO sqlalchemy.engine.Engine BEGIN (implicit)\n",
      "2021-11-19 23:04:23,871 INFO sqlalchemy.engine.Engine INSERT INTO \"webAPI\" (\"index\", \"StateName\", \"TotalCases\", \"NewCases\", \"TotalDeaths\", \"NewDeaths\", \"TotalRecovered\", \"ActiveCases\", \"TotalCasesPerMill\", \"DeathsPerMill\", \"TotalTests\", \"TestsPer1Mill\", \"Population\", \"CovidTestPositivityRatio\", \"InfectionRate\", \"TotalPositiveTests\", \"TotalNegativeTests\", \"HospitalBedsCapacity\", \"BedsUsageTotal\", \"BedsUsagebyCovid\", \"ICUBedsCapacity\", \"ICUBedsUsageTotal\", \"ICUBedsUsagebyCovid\", \"VaccinesDistributed\", \"VaccinationStarted\", \"VaccinationCompleted\", \"TotalVaccinesAdministered\") VALUES (?, ?, ?, ?, ?, ?, ?, ?, ?, ?, ?, ?, ?, ?, ?, ?, ?, ?, ?, ?, ?, ?, ?, ?, ?, ?, ?)\n",
      "2021-11-19 23:04:23,871 INFO sqlalchemy.engine.Engine [generated in 0.00133s] ((0, 'CA', 4909984, 0.0, 73948, 0.0, '0', '0', 124265, 1872, 108374406, 2742807, 39512223, 0.021, 0.94, 5016148, 88152795, 63892, 50964, 3635, 7072, 5492, 939, 68761895, 30499532, 24692255, 57552889), (1, 'TX', 4304053, 0.0, 73686, 0.0, '4152087', '78280', 148437, 2541, 46858258, 1616032, 28995881, 0.049, 1.0, 4500529, 33779785, 67724, 51998, 3391, 6488, 5778, 954, 48207165, 18116659, 15718599, 36079806), (2, 'FL', 3725139, 0.0, 61081, 0.0, '3495739', '168319', 173442, 2844, 43094134, 2006456, 21477737, 0.027, 0.99, 4345296, 38645257, 58519, 46384, 1376, 6353, 4958, 263, 37938145, 15196739, 13042051, 30018517), (3, 'NY', 2745048, 0.0, 57702, 0.0, '2292893', '394453', 141108, 2966, 79004607, 4061190, 19453561, 0.039, 1.14, 2914600, 61050306, 48073, 40161, 2612, 4911, 3590, 428, 34857485, 14884576, 13198426, 28895991), (4, 'IL', 1763866, 0.0, 29157, 0.0, '1639752', '94957', 139196, 2301, 37895788, 2990556, 12671821, 0.036, 1.17, 1687566, 28773144, 30602, 22813, 1754, 3257, 2266, 318, 20963965, 8415818, 7700203, 16983006), (5, 'PA', 1674328, 0.0, 32825, 0.0, '1540381', '101122', 130787, 2564, 19447400, 1519092, 12801989, 0.112, 1.1, 1641442, 18615350, 31098, 26831, 3570, 3770, 3088, 702, 0, 0, 0, 0), (6, 'GA', 1654649, 0.0, 30162, 0.0, '1335306', '289181', 155843, 2841, 17425053, 1641175, 10617423, 0.036, 1.02, 1251996, 10996282, 22932, 19210, 1213, 2580, 2149, 244, 17036635, 6178851, 5216907, 12027136), (7, 'OH', 1633480, 0.0, 26063, 0.0, '1516520', '90897', 139744, 2230, 17809967, 1523639, 11689100, 0.108, 1.13, 1391340, 15898145, 31315, 25217, 3329, 3914, 3195, 812, 17882845, 6703031, 6148754, 13873903)  ... displaying 10 of 51 total bound parameter sets ...  (49, 'DC', 66028, 0.0, 1196, 0.0, '0', '0', 93557, 1695, 2342474, 3319132, 705749, 0.014, 1.04, 94903, 3119852, 3494, 2814, 73, 340, 276, 16, 1425025, 555016, 449491, 1132019), (50, 'VT', 46449, 0.0, 401, 0.0, '38392', '7656', 74439, 643, 2481704, 3977160, 623989, 0.046, 1.11, 62659, 2511229, 1236, 924, 62, 96, 80, 15, 1265430, 516479, 450749, 1067217))\n",
      "2021-11-19 23:04:23,873 INFO sqlalchemy.engine.Engine COMMIT\n",
      "2021-11-19 23:04:23,874 INFO sqlalchemy.engine.Engine SELECT name FROM sqlite_master WHERE type='table' ORDER BY name\n",
      "2021-11-19 23:04:23,875 INFO sqlalchemy.engine.Engine [raw sql] ()\n"
     ]
    }
   ],
   "source": [
    "#merged webAPI data is loaded into SQLDB table\n",
    "engine = create_engine('sqlite:///dsc540Project.db', echo=True)\n",
    "sqlite_connection = engine.connect()\n",
    "sqlite_table = \"webAPI\" #defining sqllite table and loading data\n",
    "webAPI.to_sql(sqlite_table, sqlite_connection, if_exists='fail')"
   ]
  },
  {
   "cell_type": "code",
   "execution_count": 53,
   "id": "34d110d8",
   "metadata": {},
   "outputs": [
    {
     "name": "stdout",
     "output_type": "stream",
     "text": [
      "2021-11-19 23:04:24,169 INFO sqlalchemy.engine.Engine PRAGMA main.table_info(\"UnderlyingYes\")\n",
      "2021-11-19 23:04:24,170 INFO sqlalchemy.engine.Engine [raw sql] ()\n",
      "2021-11-19 23:04:24,171 INFO sqlalchemy.engine.Engine PRAGMA temp.table_info(\"UnderlyingYes\")\n",
      "2021-11-19 23:04:24,171 INFO sqlalchemy.engine.Engine [raw sql] ()\n",
      "2021-11-19 23:04:24,173 INFO sqlalchemy.engine.Engine \n",
      "CREATE TABLE \"UnderlyingYes\" (\n",
      "\t\"index\" BIGINT, \n",
      "\t\"State\" TEXT, \n",
      "\t\"UnderlyingYes\" BIGINT\n",
      ")\n",
      "\n",
      "\n",
      "2021-11-19 23:04:24,174 INFO sqlalchemy.engine.Engine [no key 0.00050s] ()\n",
      "2021-11-19 23:04:24,176 INFO sqlalchemy.engine.Engine COMMIT\n",
      "2021-11-19 23:04:24,177 INFO sqlalchemy.engine.Engine CREATE INDEX \"ix_UnderlyingYes_index\" ON \"UnderlyingYes\" (\"index\")\n",
      "2021-11-19 23:04:24,177 INFO sqlalchemy.engine.Engine [no key 0.00053s] ()\n",
      "2021-11-19 23:04:24,179 INFO sqlalchemy.engine.Engine COMMIT\n",
      "2021-11-19 23:04:24,181 INFO sqlalchemy.engine.Engine BEGIN (implicit)\n",
      "2021-11-19 23:04:24,182 INFO sqlalchemy.engine.Engine INSERT INTO \"UnderlyingYes\" (\"index\", \"State\", \"UnderlyingYes\") VALUES (?, ?, ?)\n",
      "2021-11-19 23:04:24,182 INFO sqlalchemy.engine.Engine [generated in 0.00063s] ((0, 'AK', 367), (1, 'AL', 3), (2, 'AR', 98693), (3, 'AZ', 1), (4, 'CA', 4), (5, 'CO', 339), (6, 'CT', 1), (7, 'FL', 14)  ... displaying 10 of 34 total bound parameter sets ...  (32, 'WA', 29917), (33, 'WY', 9020))\n",
      "2021-11-19 23:04:24,184 INFO sqlalchemy.engine.Engine COMMIT\n",
      "2021-11-19 23:04:24,185 INFO sqlalchemy.engine.Engine SELECT name FROM sqlite_master WHERE type='table' ORDER BY name\n",
      "2021-11-19 23:04:24,185 INFO sqlalchemy.engine.Engine [raw sql] ()\n"
     ]
    }
   ],
   "source": [
    "#Cleaning Milestone 2 CSV data to create Underlying conditions effecting covid outcomes\n",
    "conn = sqlite3.connect(\"dsc540Project.db\")\n",
    "cur = conn.cursor()\n",
    "cur.execute('''Select State,Count(UnderlyingConditions) as UnderlyingYes\n",
    "                from CDCCovidData\n",
    "                where UnderlyingConditions='Yes'\n",
    "                group by State;''')\n",
    "UnderlyingYes = pd.DataFrame(cur.fetchall())\n",
    "UnderlyingYes.columns = [x[0] for x in cur.description]\n",
    "#loading Underlying yes Count into SQL DB\n",
    "engine = create_engine('sqlite:///dsc540Project.db', echo=True)\n",
    "sqlite_connection = engine.connect()\n",
    "sqlite_table = \"UnderlyingYes\" #defining sqllite table and loading data\n",
    "UnderlyingYes.to_sql(sqlite_table, sqlite_connection, if_exists='fail')"
   ]
  },
  {
   "cell_type": "code",
   "execution_count": 54,
   "id": "f08bbc62",
   "metadata": {},
   "outputs": [
    {
     "name": "stdout",
     "output_type": "stream",
     "text": [
      "2021-11-19 23:04:24,280 INFO sqlalchemy.engine.Engine PRAGMA main.table_info(\"UnderlyingNo\")\n",
      "2021-11-19 23:04:24,281 INFO sqlalchemy.engine.Engine [raw sql] ()\n",
      "2021-11-19 23:04:24,282 INFO sqlalchemy.engine.Engine PRAGMA temp.table_info(\"UnderlyingNo\")\n",
      "2021-11-19 23:04:24,282 INFO sqlalchemy.engine.Engine [raw sql] ()\n",
      "2021-11-19 23:04:24,283 INFO sqlalchemy.engine.Engine \n",
      "CREATE TABLE \"UnderlyingNo\" (\n",
      "\t\"index\" BIGINT, \n",
      "\t\"State\" TEXT, \n",
      "\t\"UnderlyingNo\" BIGINT\n",
      ")\n",
      "\n",
      "\n",
      "2021-11-19 23:04:24,284 INFO sqlalchemy.engine.Engine [no key 0.00044s] ()\n",
      "2021-11-19 23:04:24,285 INFO sqlalchemy.engine.Engine COMMIT\n",
      "2021-11-19 23:04:24,286 INFO sqlalchemy.engine.Engine CREATE INDEX \"ix_UnderlyingNo_index\" ON \"UnderlyingNo\" (\"index\")\n",
      "2021-11-19 23:04:24,286 INFO sqlalchemy.engine.Engine [no key 0.00037s] ()\n",
      "2021-11-19 23:04:24,287 INFO sqlalchemy.engine.Engine COMMIT\n",
      "2021-11-19 23:04:24,289 INFO sqlalchemy.engine.Engine BEGIN (implicit)\n",
      "2021-11-19 23:04:24,289 INFO sqlalchemy.engine.Engine INSERT INTO \"UnderlyingNo\" (\"index\", \"State\", \"UnderlyingNo\") VALUES (?, ?, ?)\n",
      "2021-11-19 23:04:24,290 INFO sqlalchemy.engine.Engine [generated in 0.00057s] ((0, 'KS', 8339), (1, 'OH', 10091), (2, 'UT', 2097))\n",
      "2021-11-19 23:04:24,291 INFO sqlalchemy.engine.Engine COMMIT\n",
      "2021-11-19 23:04:24,291 INFO sqlalchemy.engine.Engine SELECT name FROM sqlite_master WHERE type='table' ORDER BY name\n",
      "2021-11-19 23:04:24,292 INFO sqlalchemy.engine.Engine [raw sql] ()\n"
     ]
    }
   ],
   "source": [
    "#Cleaning Milestone 2 CSV data to create Underlying conditions effecting covid outcomes with no conditions\n",
    "cur.execute('''Select State,Count(UnderlyingConditions) as UnderlyingNo\n",
    "                from CDCCovidData\n",
    "                where UnderlyingConditions='No'\n",
    "                group by State;''')\n",
    "UnderlyingNo = pd.DataFrame(cur.fetchall())\n",
    "UnderlyingNo.columns = [x[0] for x in cur.description]\n",
    "#loading Underlying no Count into SQL DB\n",
    "engine = create_engine('sqlite:///dsc540Project.db', echo=True)\n",
    "sqlite_connection = engine.connect()\n",
    "sqlite_table = \"UnderlyingNo\" #defining sqllite table and loading data\n",
    "UnderlyingNo.to_sql(sqlite_table, sqlite_connection, if_exists='fail')"
   ]
  },
  {
   "cell_type": "code",
   "execution_count": 55,
   "id": "1b0388e2",
   "metadata": {},
   "outputs": [
    {
     "name": "stdout",
     "output_type": "stream",
     "text": [
      "2021-11-19 23:04:24,305 INFO sqlalchemy.engine.Engine PRAGMA main.table_info(\"CsvwebAPI1\")\n",
      "2021-11-19 23:04:24,306 INFO sqlalchemy.engine.Engine [raw sql] ()\n",
      "2021-11-19 23:04:24,306 INFO sqlalchemy.engine.Engine PRAGMA temp.table_info(\"CsvwebAPI1\")\n",
      "2021-11-19 23:04:24,307 INFO sqlalchemy.engine.Engine [raw sql] ()\n",
      "2021-11-19 23:04:24,309 INFO sqlalchemy.engine.Engine \n",
      "CREATE TABLE \"CsvwebAPI1\" (\n",
      "\tlevel_0 BIGINT, \n",
      "\t\"index\" BIGINT, \n",
      "\t\"StateName\" TEXT, \n",
      "\t\"TotalCases\" BIGINT, \n",
      "\t\"NewCases\" FLOAT, \n",
      "\t\"TotalDeaths\" BIGINT, \n",
      "\t\"NewDeaths\" FLOAT, \n",
      "\t\"TotalRecovered\" TEXT, \n",
      "\t\"ActiveCases\" TEXT, \n",
      "\t\"TotalCasesPerMill\" BIGINT, \n",
      "\t\"DeathsPerMill\" BIGINT, \n",
      "\t\"TotalTests\" BIGINT, \n",
      "\t\"TestsPer1Mill\" BIGINT, \n",
      "\t\"Population\" BIGINT, \n",
      "\t\"CovidTestPositivityRatio\" FLOAT, \n",
      "\t\"InfectionRate\" FLOAT, \n",
      "\t\"TotalPositiveTests\" BIGINT, \n",
      "\t\"TotalNegativeTests\" BIGINT, \n",
      "\t\"HospitalBedsCapacity\" BIGINT, \n",
      "\t\"BedsUsageTotal\" BIGINT, \n",
      "\t\"BedsUsagebyCovid\" BIGINT, \n",
      "\t\"ICUBedsCapacity\" BIGINT, \n",
      "\t\"ICUBedsUsageTotal\" BIGINT, \n",
      "\t\"ICUBedsUsagebyCovid\" BIGINT, \n",
      "\t\"VaccinesDistributed\" BIGINT, \n",
      "\t\"VaccinationStarted\" BIGINT, \n",
      "\t\"VaccinationCompleted\" BIGINT, \n",
      "\t\"TotalVaccinesAdministered\" BIGINT, \n",
      "\t\"UnderlyingYes\" FLOAT\n",
      ")\n",
      "\n",
      "\n",
      "2021-11-19 23:04:24,310 INFO sqlalchemy.engine.Engine [no key 0.00063s] ()\n",
      "2021-11-19 23:04:24,311 INFO sqlalchemy.engine.Engine COMMIT\n",
      "2021-11-19 23:04:24,312 INFO sqlalchemy.engine.Engine CREATE INDEX \"ix_CsvwebAPI1_level_0\" ON \"CsvwebAPI1\" (level_0)\n",
      "2021-11-19 23:04:24,312 INFO sqlalchemy.engine.Engine [no key 0.00037s] ()\n",
      "2021-11-19 23:04:24,313 INFO sqlalchemy.engine.Engine COMMIT\n",
      "2021-11-19 23:04:24,316 INFO sqlalchemy.engine.Engine BEGIN (implicit)\n",
      "2021-11-19 23:04:24,318 INFO sqlalchemy.engine.Engine INSERT INTO \"CsvwebAPI1\" (level_0, \"index\", \"StateName\", \"TotalCases\", \"NewCases\", \"TotalDeaths\", \"NewDeaths\", \"TotalRecovered\", \"ActiveCases\", \"TotalCasesPerMill\", \"DeathsPerMill\", \"TotalTests\", \"TestsPer1Mill\", \"Population\", \"CovidTestPositivityRatio\", \"InfectionRate\", \"TotalPositiveTests\", \"TotalNegativeTests\", \"HospitalBedsCapacity\", \"BedsUsageTotal\", \"BedsUsagebyCovid\", \"ICUBedsCapacity\", \"ICUBedsUsageTotal\", \"ICUBedsUsagebyCovid\", \"VaccinesDistributed\", \"VaccinationStarted\", \"VaccinationCompleted\", \"TotalVaccinesAdministered\", \"UnderlyingYes\") VALUES (?, ?, ?, ?, ?, ?, ?, ?, ?, ?, ?, ?, ?, ?, ?, ?, ?, ?, ?, ?, ?, ?, ?, ?, ?, ?, ?, ?, ?)\n",
      "2021-11-19 23:04:24,319 INFO sqlalchemy.engine.Engine [generated in 0.00121s] ((0, 0, 'CA', 4909984, 0.0, 73948, 0.0, '0', '0', 124265, 1872, 108374406, 2742807, 39512223, 0.021, 0.94, 5016148, 88152795, 63892, 50964, 3635, 7072, 5492, 939, 68761895, 30499532, 24692255, 57552889, 4.0), (1, 1, 'TX', 4304053, 0.0, 73686, 0.0, '4152087', '78280', 148437, 2541, 46858258, 1616032, 28995881, 0.049, 1.0, 4500529, 33779785, 67724, 51998, 3391, 6488, 5778, 954, 48207165, 18116659, 15718599, 36079806, None), (2, 2, 'FL', 3725139, 0.0, 61081, 0.0, '3495739', '168319', 173442, 2844, 43094134, 2006456, 21477737, 0.027, 0.99, 4345296, 38645257, 58519, 46384, 1376, 6353, 4958, 263, 37938145, 15196739, 13042051, 30018517, 14.0), (3, 3, 'NY', 2745048, 0.0, 57702, 0.0, '2292893', '394453', 141108, 2966, 79004607, 4061190, 19453561, 0.039, 1.14, 2914600, 61050306, 48073, 40161, 2612, 4911, 3590, 428, 34857485, 14884576, 13198426, 28895991, 102253.0), (4, 4, 'IL', 1763866, 0.0, 29157, 0.0, '1639752', '94957', 139196, 2301, 37895788, 2990556, 12671821, 0.036, 1.17, 1687566, 28773144, 30602, 22813, 1754, 3257, 2266, 318, 20963965, 8415818, 7700203, 16983006, 1.0), (5, 5, 'PA', 1674328, 0.0, 32825, 0.0, '1540381', '101122', 130787, 2564, 19447400, 1519092, 12801989, 0.112, 1.1, 1641442, 18615350, 31098, 26831, 3570, 3770, 3088, 702, 0, 0, 0, 0, 36188.0), (6, 6, 'GA', 1654649, 0.0, 30162, 0.0, '1335306', '289181', 155843, 2841, 17425053, 1641175, 10617423, 0.036, 1.02, 1251996, 10996282, 22932, 19210, 1213, 2580, 2149, 244, 17036635, 6178851, 5216907, 12027136, 2.0), (7, 7, 'OH', 1633480, 0.0, 26063, 0.0, '1516520', '90897', 139744, 2230, 17809967, 1523639, 11689100, 0.108, 1.13, 1391340, 15898145, 31315, 25217, 3329, 3914, 3195, 812, 17882845, 6703031, 6148754, 13873903, 53850.0)  ... displaying 10 of 51 total bound parameter sets ...  (49, 49, 'DC', 66028, 0.0, 1196, 0.0, '0', '0', 93557, 1695, 2342474, 3319132, 705749, 0.014, 1.04, 94903, 3119852, 3494, 2814, 73, 340, 276, 16, 1425025, 555016, 449491, 1132019, None), (50, 50, 'VT', 46449, 0.0, 401, 0.0, '38392', '7656', 74439, 643, 2481704, 3977160, 623989, 0.046, 1.11, 62659, 2511229, 1236, 924, 62, 96, 80, 15, 1265430, 516479, 450749, 1067217, 3652.0))\n",
      "2021-11-19 23:04:24,321 INFO sqlalchemy.engine.Engine COMMIT\n",
      "2021-11-19 23:04:24,323 INFO sqlalchemy.engine.Engine SELECT name FROM sqlite_master WHERE type='table' ORDER BY name\n",
      "2021-11-19 23:04:24,323 INFO sqlalchemy.engine.Engine [raw sql] ()\n"
     ]
    }
   ],
   "source": [
    "#Merging Covid underlying coditions with webAPI (milestone3 and 4 data)\n",
    "cur.execute('''Select a.*,b.UnderlyingYes\n",
    "                from webAPI a\n",
    "                LEFT JOIN UnderlyingYes b\n",
    "                ON a.StateName=b.State;''')\n",
    "CsvwebAPI1 = pd.DataFrame(cur.fetchall())\n",
    "CsvwebAPI1.columns = [x[0] for x in cur.description]\n",
    "#loading data into SQL DB as interim\n",
    "engine = create_engine('sqlite:///dsc540Project.db', echo=True)\n",
    "sqlite_connection = engine.connect()\n",
    "sqlite_table = \"CsvwebAPI1\" #defining sqllite table and loading data\n",
    "CsvwebAPI1.to_sql(sqlite_table, sqlite_connection, if_exists='fail')"
   ]
  },
  {
   "cell_type": "code",
   "execution_count": 56,
   "id": "968ece2c",
   "metadata": {},
   "outputs": [
    {
     "name": "stdout",
     "output_type": "stream",
     "text": [
      "2021-11-19 23:04:24,339 INFO sqlalchemy.engine.Engine PRAGMA main.table_info(\"CsvWebAPI\")\n",
      "2021-11-19 23:04:24,340 INFO sqlalchemy.engine.Engine [raw sql] ()\n",
      "2021-11-19 23:04:24,340 INFO sqlalchemy.engine.Engine PRAGMA temp.table_info(\"CsvWebAPI\")\n",
      "2021-11-19 23:04:24,341 INFO sqlalchemy.engine.Engine [raw sql] ()\n",
      "2021-11-19 23:04:24,343 INFO sqlalchemy.engine.Engine \n",
      "CREATE TABLE \"CsvWebAPI\" (\n",
      "\t\"index\" BIGINT, \n",
      "\t\"StateName\" TEXT, \n",
      "\t\"TotalCases\" BIGINT, \n",
      "\t\"NewCases\" FLOAT, \n",
      "\t\"TotalDeaths\" BIGINT, \n",
      "\t\"NewDeaths\" FLOAT, \n",
      "\t\"TotalRecovered\" TEXT, \n",
      "\t\"ActiveCases\" TEXT, \n",
      "\t\"TotalCasesPerMill\" BIGINT, \n",
      "\t\"DeathsPerMill\" BIGINT, \n",
      "\t\"TotalTests\" BIGINT, \n",
      "\t\"TestsPer1Mill\" BIGINT, \n",
      "\t\"Population\" BIGINT, \n",
      "\t\"CovidTestPositivityRatio\" FLOAT, \n",
      "\t\"InfectionRate\" FLOAT, \n",
      "\t\"TotalPositiveTests\" BIGINT, \n",
      "\t\"TotalNegativeTests\" BIGINT, \n",
      "\t\"HospitalBedsCapacity\" BIGINT, \n",
      "\t\"BedsUsageTotal\" BIGINT, \n",
      "\t\"BedsUsagebyCovid\" BIGINT, \n",
      "\t\"ICUBedsCapacity\" BIGINT, \n",
      "\t\"ICUBedsUsageTotal\" BIGINT, \n",
      "\t\"ICUBedsUsagebyCovid\" BIGINT, \n",
      "\t\"VaccinesDistributed\" BIGINT, \n",
      "\t\"VaccinationStarted\" BIGINT, \n",
      "\t\"VaccinationCompleted\" BIGINT, \n",
      "\t\"TotalVaccinesAdministered\" BIGINT, \n",
      "\t\"UnderlyingYes\" BIGINT, \n",
      "\t\"UnderlyingNo\" BIGINT\n",
      ")\n",
      "\n",
      "\n",
      "2021-11-19 23:04:24,344 INFO sqlalchemy.engine.Engine [no key 0.00067s] ()\n",
      "2021-11-19 23:04:24,345 INFO sqlalchemy.engine.Engine COMMIT\n",
      "2021-11-19 23:04:24,346 INFO sqlalchemy.engine.Engine CREATE INDEX \"ix_CsvWebAPI_index\" ON \"CsvWebAPI\" (\"index\")\n",
      "2021-11-19 23:04:24,346 INFO sqlalchemy.engine.Engine [no key 0.00037s] ()\n",
      "2021-11-19 23:04:24,348 INFO sqlalchemy.engine.Engine COMMIT\n",
      "2021-11-19 23:04:24,351 INFO sqlalchemy.engine.Engine BEGIN (implicit)\n",
      "2021-11-19 23:04:24,353 INFO sqlalchemy.engine.Engine INSERT INTO \"CsvWebAPI\" (\"index\", \"StateName\", \"TotalCases\", \"NewCases\", \"TotalDeaths\", \"NewDeaths\", \"TotalRecovered\", \"ActiveCases\", \"TotalCasesPerMill\", \"DeathsPerMill\", \"TotalTests\", \"TestsPer1Mill\", \"Population\", \"CovidTestPositivityRatio\", \"InfectionRate\", \"TotalPositiveTests\", \"TotalNegativeTests\", \"HospitalBedsCapacity\", \"BedsUsageTotal\", \"BedsUsagebyCovid\", \"ICUBedsCapacity\", \"ICUBedsUsageTotal\", \"ICUBedsUsagebyCovid\", \"VaccinesDistributed\", \"VaccinationStarted\", \"VaccinationCompleted\", \"TotalVaccinesAdministered\", \"UnderlyingYes\", \"UnderlyingNo\") VALUES (?, ?, ?, ?, ?, ?, ?, ?, ?, ?, ?, ?, ?, ?, ?, ?, ?, ?, ?, ?, ?, ?, ?, ?, ?, ?, ?, ?, ?)\n",
      "2021-11-19 23:04:24,354 INFO sqlalchemy.engine.Engine [generated in 0.00126s] ((0, 'CA', 4909984, 0.0, 73948, 0.0, '0', '0', 124265, 1872, 108374406, 2742807, 39512223, 0.021, 0.94, 5016148, 88152795, 63892, 50964, 3635, 7072, 5492, 939, 68761895, 30499532, 24692255, 57552889, 4, 0), (1, 'TX', 4304053, 0.0, 73686, 0.0, '4152087', '78280', 148437, 2541, 46858258, 1616032, 28995881, 0.049, 1.0, 4500529, 33779785, 67724, 51998, 3391, 6488, 5778, 954, 48207165, 18116659, 15718599, 36079806, 0, 0), (2, 'FL', 3725139, 0.0, 61081, 0.0, '3495739', '168319', 173442, 2844, 43094134, 2006456, 21477737, 0.027, 0.99, 4345296, 38645257, 58519, 46384, 1376, 6353, 4958, 263, 37938145, 15196739, 13042051, 30018517, 14, 0), (3, 'NY', 2745048, 0.0, 57702, 0.0, '2292893', '394453', 141108, 2966, 79004607, 4061190, 19453561, 0.039, 1.14, 2914600, 61050306, 48073, 40161, 2612, 4911, 3590, 428, 34857485, 14884576, 13198426, 28895991, 102253, 0), (4, 'IL', 1763866, 0.0, 29157, 0.0, '1639752', '94957', 139196, 2301, 37895788, 2990556, 12671821, 0.036, 1.17, 1687566, 28773144, 30602, 22813, 1754, 3257, 2266, 318, 20963965, 8415818, 7700203, 16983006, 1, 0), (5, 'PA', 1674328, 0.0, 32825, 0.0, '1540381', '101122', 130787, 2564, 19447400, 1519092, 12801989, 0.112, 1.1, 1641442, 18615350, 31098, 26831, 3570, 3770, 3088, 702, 0, 0, 0, 0, 36188, 0), (6, 'GA', 1654649, 0.0, 30162, 0.0, '1335306', '289181', 155843, 2841, 17425053, 1641175, 10617423, 0.036, 1.02, 1251996, 10996282, 22932, 19210, 1213, 2580, 2149, 244, 17036635, 6178851, 5216907, 12027136, 2, 0), (7, 'OH', 1633480, 0.0, 26063, 0.0, '1516520', '90897', 139744, 2230, 17809967, 1523639, 11689100, 0.108, 1.13, 1391340, 15898145, 31315, 25217, 3329, 3914, 3195, 812, 17882845, 6703031, 6148754, 13873903, 53850, 10091)  ... displaying 10 of 51 total bound parameter sets ...  (49, 'DC', 66028, 0.0, 1196, 0.0, '0', '0', 93557, 1695, 2342474, 3319132, 705749, 0.014, 1.04, 94903, 3119852, 3494, 2814, 73, 340, 276, 16, 1425025, 555016, 449491, 1132019, 0, 0), (50, 'VT', 46449, 0.0, 401, 0.0, '38392', '7656', 74439, 643, 2481704, 3977160, 623989, 0.046, 1.11, 62659, 2511229, 1236, 924, 62, 96, 80, 15, 1265430, 516479, 450749, 1067217, 3652, 0))\n",
      "2021-11-19 23:04:24,356 INFO sqlalchemy.engine.Engine COMMIT\n",
      "2021-11-19 23:04:24,357 INFO sqlalchemy.engine.Engine SELECT name FROM sqlite_master WHERE type='table' ORDER BY name\n",
      "2021-11-19 23:04:24,358 INFO sqlalchemy.engine.Engine [raw sql] ()\n"
     ]
    }
   ],
   "source": [
    "#final merge of extracting Underlying coditions NO and merging with webAPI and CSV underlying conditions Yes data \n",
    "cur.execute('''Select a.*,b.UnderlyingNo\n",
    "                from CsvwebAPI1 a\n",
    "                LEFT JOIN UnderlyingNo b\n",
    "                ON a.StateName=b.State;''')\n",
    "CsvWebAPI = pd.DataFrame(cur.fetchall())\n",
    "CsvWebAPI.columns = [x[0] for x in cur.description]\n",
    "#clenaing up final data frame to remove NaNs and marking type of data to Int from float\n",
    "CsvWebAPI.fillna(0, inplace=True)\n",
    "CsvWebAPI['UnderlyingYes']=CsvWebAPI['UnderlyingYes'].astype(int,errors='raise')\n",
    "CsvWebAPI['UnderlyingNo']=CsvWebAPI['UnderlyingNo'].astype(int,errors='raise')\n",
    "CsvWebAPI=CsvWebAPI.drop(columns=['level_0', 'index'])\n",
    "CsvWebAPI['StateName'] = CsvWebAPI['StateName'].astype(str)\n",
    "#Loading all CSV Web and API data (from Milestone2,3 and 4) of project into one data set\n",
    "engine = create_engine('sqlite:///dsc540Project.db', echo=True)\n",
    "sqlite_connection = engine.connect()\n",
    "sqlite_table = \"CsvWebAPI\" #defining sqllite table and loading data\n",
    "CsvWebAPI.to_sql(sqlite_table, sqlite_connection, if_exists='fail')"
   ]
  },
  {
   "cell_type": "markdown",
   "id": "ad2668a1",
   "metadata": {},
   "source": [
    "# create 5 visualizations to represent the merged data (CsvWebAPI)"
   ]
  },
  {
   "cell_type": "code",
   "execution_count": 87,
   "id": "8ecdbde6",
   "metadata": {},
   "outputs": [],
   "source": [
    "#importing necessary librarires\n",
    "import numpy as np #import numpy as np\n",
    "import pandas as pd #import pandas as pd\n",
    "from collections import Counter #import collections module\n",
    "import matplotlib.pyplot as plt #import matplotlib\n",
    "import statsmodels.formula.api as smf #import statsmodels\n",
    "%matplotlib inline\n",
    "import sys\n",
    "import seaborn as sns #import seaborn module\n",
    "from scipy import stats #import scipy module\n",
    "import scipy.stats\n",
    "from scipy import stats #import sipy and stats module\n",
    "import warnings"
   ]
  },
  {
   "cell_type": "code",
   "execution_count": 99,
   "id": "6ff0de5d",
   "metadata": {},
   "outputs": [
    {
     "data": {
      "text/plain": [
       "[Text(0.5, 0, 'State'), Text(0, 0.5, 'TotalCases(in Millions)')]"
      ]
     },
     "execution_count": 99,
     "metadata": {},
     "output_type": "execute_result"
    },
    {
     "data": {
      "image/png": "[encoded data removed]",
      "text/plain": [
       "<Figure size 1440x720 with 1 Axes>"
      ]
     },
     "metadata": {
      "needs_background": "light"
     },
     "output_type": "display_data"
    }
   ],
   "source": [
    "#Bar plot of Total Covid Cases per State\n",
    "plt.rcParams['figure.figsize'] = [20, 10]\n",
    "\n",
    "x=CsvWebAPI['StateName']\n",
    "y=CsvWebAPI['TotalCases']\n",
    "x_pos = np.arange(len(x))\n",
    "plt.title('Total Cases per State(till date)')\n",
    "plt.xticks(x_pos, x)\n",
    "barplotprob=sns.barplot(x=x,y=y)\n",
    "barplotprob.set(xlabel=\"State\", ylabel = \"TotalCases(in Millions)\")"
   ]
  },
  {
   "cell_type": "code",
   "execution_count": 78,
   "id": "958155bb",
   "metadata": {},
   "outputs": [
    {
     "data": {
      "image/png": "[encoded data removed]",
      "text/plain": [
       "<Figure size 1080x864 with 25 Axes>"
      ]
     },
     "metadata": {
      "needs_background": "light"
     },
     "output_type": "display_data"
    }
   ],
   "source": [
    "#Histogram plots of all the variables in the data set\n",
    "CsvWebAPI.hist(bins=3,figsize=(15,12), color='orange')\n",
    "plt.tight_layout()"
   ]
  },
  {
   "cell_type": "code",
   "execution_count": 128,
   "id": "970e8442",
   "metadata": {},
   "outputs": [
    {
     "data": {
      "text/plain": [
       "<seaborn.axisgrid.FacetGrid at 0x7f9ce488aa00>"
      ]
     },
     "execution_count": 128,
     "metadata": {},
     "output_type": "execute_result"
    },
    {
     "data": {
      "image/png": "[encoded data removed]",
      "text/plain": [
       "<Figure size 360x360 with 1 Axes>"
      ]
     },
     "metadata": {},
     "output_type": "display_data"
    }
   ],
   "source": [
    "#Scatterplot of total cases vs Total vaccine admistered correlation\n",
    "sns.set(rc = {'figure.figsize':(20,20)})\n",
    "warnings.simplefilter(action=\"ignore\", category=FutureWarning)#ignoring warnings\n",
    "scatterplot=sns.lmplot('TotalCases',\"TotalVaccinesAdministered\", CsvWebAPI);\n",
    "scatterplot.set(xlabel=\"Total Cases(In Millions)\", ylabel = \"Total Vaccines Administered(in Millions)\",title=\"Total Cases vs Total Vaccines Administered\")"
   ]
  },
  {
   "cell_type": "code",
   "execution_count": 125,
   "id": "1b844fe4",
   "metadata": {},
   "outputs": [
    {
     "data": {
      "image/png": "[encoded data removed]",
      "text/plain": [
       "<Figure size 428.925x360 with 1 Axes>"
      ]
     },
     "metadata": {},
     "output_type": "display_data"
    }
   ],
   "source": [
    "#Scatterplot of Covid patients hospital beds usage in comparision to total beds\n",
    "sns.set(rc={'figure.figsize':(20,20)})\n",
    "BedUsage=sns.lmplot('BedsUsageTotal',\"BedsUsagebyCovid\", CsvWebAPI, hue=\"StateName\");\n",
    "BedUsage.fig.suptitle('Total Hospital Beds Used vs Covid patients usage');"
   ]
  },
  {
   "cell_type": "code",
   "execution_count": 124,
   "id": "95e80aaf",
   "metadata": {},
   "outputs": [
    {
     "data": {
      "image/png": "[encoded data removed]",
      "text/plain": [
       "<Figure size 428.925x360 with 1 Axes>"
      ]
     },
     "metadata": {},
     "output_type": "display_data"
    }
   ],
   "source": [
    "#Scatter plot of total deaths per state factored against if the patients have underlying conditions\n",
    "sns.set(rc={'figure.figsize':(50,50)})\n",
    "conditions=sns.lmplot('TotalDeaths',\"UnderlyingYes\", CsvWebAPI, hue=\"StateName\")\n",
    "conditions.fig.suptitle('Covid Deaths vs Underlying conditions of patients');"
   ]
  },
  {
   "cell_type": "markdown",
   "id": "cf83bb7e",
   "metadata": {},
   "source": [
    "**What I learned?**\n",
    "DSC540 Term project milestone journey has been interesting. I had experience in dealing with DBs,CSV files, but for completing this course I had to learn how to scrape data off of web pages and API responses.\n",
    "This learning is going to be useful to be able to work with some of the coming up projects at my workplace -especially working with APIs.\n",
    "Also I must say that the weekly assignments and corresponding material is well structured and builds on top of preceeding assignment to help bring things together to enable working with these different data sources.\n",
    "\n",
    "**Implication of cleansing up data**\n",
    "It has been intersting to work with three varied data sources. \n",
    "My first and biggest CDC source has been extensive with 32M records. But due to the way the data is captured at different city/county and state authority levels and rolled up, there has been a lot missing/unknown information. Which forced me to cleanse most of the data and brought it down to 600K. This led to a lot of outlier situation with calculating underlying conditions implications on serious outcomes of Covid infection including hospitalization to death. \n",
    "This sitation is clearly outlined in the above last plot that shows a lot of 0 values for quite a few states to draw any meaningful conclusion. If the current data is used as is, it would have serious negative implications in any health care decisions made and that would be wrong and unethical.\n",
    "\n",
    "    One of the things I will consider in my future iterations of this is to Impute the missing data vs ignoring the missing rows completely. \n",
    "    "
   ]
  },
  {
   "cell_type": "code",
   "execution_count": null,
   "id": "410d0bfe",
   "metadata": {},
   "outputs": [],
   "source": []
  }
 ],
 "metadata": {
  "kernelspec": {
   "display_name": "Python 3",
   "language": "python",
   "name": "python3"
  },
  "language_info": {
   "codemirror_mode": {
    "name": "ipython",
    "version": 3
   },
   "file_extension": ".py",
   "mimetype": "text/x-python",
   "name": "python",
   "nbconvert_exporter": "python",
   "pygments_lexer": "ipython3",
   "version": "3.8.8"
  }
 },
 "nbformat": 4,
 "nbformat_minor": 5
}
